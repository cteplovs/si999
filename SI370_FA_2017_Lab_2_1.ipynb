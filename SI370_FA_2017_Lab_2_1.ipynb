{
  "nbformat": 4,
  "nbformat_minor": 0,
  "metadata": {
    "colab": {
      "name": "SI370 FA 2017 - Lab 2.1.ipynb",
      "version": "0.3.2",
      "provenance": []
    },
    "kernelspec": {
      "display_name": "Python [default]",
      "language": "python",
      "name": "python3"
    }
  },
  "cells": [
    {
      "cell_type": "markdown",
      "metadata": {
        "id": "view-in-github",
        "colab_type": "text"
      },
      "source": [
        "[View in Colaboratory](https://colab.research.google.com/github/cteplovs/si999/blob/master/SI370_FA_2017_Lab_2_1.ipynb)"
      ]
    },
    {
      "metadata": {
        "id": "GTrUvEecUOj_",
        "colab_type": "text"
      },
      "cell_type": "markdown",
      "source": [
        ""
      ]
    },
    {
      "metadata": {
        "id": "JN_TJsJwUOkA",
        "colab_type": "text"
      },
      "cell_type": "markdown",
      "source": [
        "# SI 370 - Lab Session 2.1: Reviewing Python and NumPy\n",
        "\n",
        "## Objectives:\n",
        "* Review Python concepts.\n",
        "* Review NumPy concepts.\n",
        "\n",
        "\n",
        "## Submission Instructions:\n",
        "At the end of this session, please turn in the worksheet to the instructors before you leave the classroom.  Try to get through as much as you can\n",
        "\n",
        "# Q0: Explore the notebook\n",
        "\n",
        "Play around with the notebook keyboard shortcuts\n",
        "\n",
        "shift-enter will cause a particular cell to 'execute'\n",
        "\n",
        "See https://www.dataquest.io/blog/jupyter-notebook-tips-tricks-shortcuts/ for some helpful tips, including additional shortcuts."
      ]
    },
    {
      "metadata": {
        "id": "uIkh_0-kUOkA",
        "colab_type": "text"
      },
      "cell_type": "markdown",
      "source": [
        "# Survey says...\n",
        "\n",
        "We're going to be working with some of the deidentified data from the survey you completed during the first class."
      ]
    },
    {
      "metadata": {
        "id": "ZmVKB4pnUOkB",
        "colab_type": "code",
        "colab": {}
      },
      "cell_type": "code",
      "source": [
        "studentNames = ['Sheree','Carter','Wilbur','Alexander','Erick','Krystal','Caitlin','Monique']\n",
        "studentWorry = [3,3,1,4,3,4,2,2]\n",
        "\n",
        "# the two arrays are alligned... so studentNames[0] is Sheree and Sheree's worry score can be found \n",
        "# by accessing studentWorry[0]"
      ],
      "execution_count": 0,
      "outputs": []
    },
    {
      "metadata": {
        "id": "wDn7pLQcUOkF",
        "colab_type": "text"
      },
      "cell_type": "markdown",
      "source": [
        "When we print out text we can do things like:\n",
        "\n",
        "`age = 60`\n",
        "\n",
        "`name = 'Swaroop'`\n",
        "\n",
        "`print(name + \" was \" + str(age) + \" years old when he wrote this book\")`\n",
        "\n",
        "An alternative is to use `format()`\n",
        "\n",
        "If your want to include values of other variables including Strings or other types inside a String, you can use the format() function. E.g.,\n",
        "\n",
        "`print('{0} was {1} years old when he wrote this book.'.format(name, age))`"
      ]
    },
    {
      "metadata": {
        "id": "KSQ4dP19UOkG",
        "colab_type": "text"
      },
      "cell_type": "markdown",
      "source": [
        "## Q1:  Use the above print formatting to print out Erick's score\n"
      ]
    },
    {
      "metadata": {
        "id": "9d9bgYpsUOkG",
        "colab_type": "code",
        "colab": {
          "base_uri": "https://localhost:8080/",
          "height": 34
        },
        "outputId": "4b702083-4d15-474e-b0fe-1b4a420589a6"
      },
      "cell_type": "code",
      "source": [
        "erickIndex = 4; # fix this\n",
        "name = studentNames[erickIndex]\n",
        "worry = studentWorry[erickIndex]\n",
        "\n",
        "print('{0}\\'s worry score is {1}'.format(name,worry))  # fix this to print \"Erick's worry score is 3\" (use the name and worry variables)"
      ],
      "execution_count": 4,
      "outputs": [
        {
          "output_type": "stream",
          "text": [
            "Erick's worry score is 3\n"
          ],
          "name": "stdout"
        }
      ]
    },
    {
      "metadata": {
        "id": "myv6GvPDUOkN",
        "colab_type": "text"
      },
      "cell_type": "markdown",
      "source": [
        "## <font color='red'>Answer question 1 in the lab 2 worksheet</font>"
      ]
    },
    {
      "metadata": {
        "id": "GUkzfh8uUOkN",
        "colab_type": "text"
      },
      "cell_type": "markdown",
      "source": [
        "# Q2: Write a function to pull out any student's worry score\n"
      ]
    },
    {
      "metadata": {
        "id": "MAOlWX90UOkN",
        "colab_type": "code",
        "colab": {}
      },
      "cell_type": "code",
      "source": [
        "def printWorryA(studentName):\n",
        "    # add code here, there are a number of ways to do this\n",
        "    # hint: \".index(...)\"\n",
        "    print(\"hi \" + studentName) # fix this line"
      ],
      "execution_count": 0,
      "outputs": []
    },
    {
      "metadata": {
        "id": "rS0SQ-NoUOkQ",
        "colab_type": "code",
        "colab": {
          "base_uri": "https://localhost:8080/",
          "height": 34
        },
        "outputId": "914378db-7052-4b63-fb88-fdf5969609e5"
      },
      "cell_type": "code",
      "source": [
        "# if you wrote the above code correctly, printWorryA('Wilbur') should give you back \"Wilbur's worry score is 1\"\n",
        "printWorryA('Wilbur')"
      ],
      "execution_count": 9,
      "outputs": [
        {
          "output_type": "stream",
          "text": [
            "hi Wilbur\n"
          ],
          "name": "stdout"
        }
      ]
    },
    {
      "metadata": {
        "id": "yxQs-jwSUOkU",
        "colab_type": "text"
      },
      "cell_type": "markdown",
      "source": [
        "## <font color='red'>Answer question 2 in the lab 2 worksheet</font>"
      ]
    },
    {
      "metadata": {
        "id": "1c_u8FHDUOkU",
        "colab_type": "text"
      },
      "cell_type": "markdown",
      "source": [
        "# Q3: 'Bullet Proof' your code\n",
        "\n",
        "Unfortunately, if the student does not exist, you're going to get an error (you can try it once you're done with step 2: `printWorryA('Alice')`)\n",
        "\n",
        "Let's modify print the score so that if the name isn't in our database we print \"sorry, student not found\"\n",
        "\n",
        "create a modified printWorryB in the next cell"
      ]
    },
    {
      "metadata": {
        "id": "LuK7X-inUOkV",
        "colab_type": "code",
        "colab": {}
      },
      "cell_type": "code",
      "source": [
        "def printWorryB(studentName):\n",
        "    # add code here, there are a number of ways to do this\n",
        "    # hint: \".index(...)\"\n",
        "    # print(\"hi \" + studentName) # fix this line\n",
        "    print(studentName + \" not found\")"
      ],
      "execution_count": 0,
      "outputs": []
    },
    {
      "metadata": {
        "id": "ujJiERNtUOkX",
        "colab_type": "code",
        "colab": {
          "base_uri": "https://localhost:8080/",
          "height": 50
        },
        "outputId": "144c7d94-8749-44d1-9979-64214430534a"
      },
      "cell_type": "code",
      "source": [
        "# Test your code here\n",
        "printWorryB('Wilbur')  # should print the score\n",
        "printWorryB('Jeremiah') # should print the error"
      ],
      "execution_count": 11,
      "outputs": [
        {
          "output_type": "stream",
          "text": [
            "Wilbur not found\n",
            "Jeremiah not found\n"
          ],
          "name": "stdout"
        }
      ]
    },
    {
      "metadata": {
        "id": "XilrtNv1UOka",
        "colab_type": "text"
      },
      "cell_type": "markdown",
      "source": [
        "## <font color='red'>Answer question 3 in the lab 2 worksheet</font>"
      ]
    },
    {
      "metadata": {
        "id": "SCwnJthiUOkb",
        "colab_type": "text"
      },
      "cell_type": "markdown",
      "source": [
        "# Q4: Find the mean worry score\n",
        "\n",
        "Just for kicks, let's report whether the student's score is more or less than the mean score.\n"
      ]
    },
    {
      "metadata": {
        "id": "_MF7xKwqUOkc",
        "colab_type": "code",
        "colab": {}
      },
      "cell_type": "code",
      "source": [
        "# First: calculate the mean worry score\n",
        "meanWorry = 3.14159 # clearly wrong, hint: look at sum and len\n",
        "\n",
        "# second modify printWorryC (you can use your code above)\n",
        "# if the student's score is below mean score, print:\n",
        "# Wilbur's score is 1; it is below average\n",
        "# if the student's score is above mean score, print:\n",
        "# Krystal's score is 4, it is above average\n",
        "\n",
        "def printWorryC(studentName):\n",
        "    # add code here, there are a number of ways to do this\n",
        "    # hint: \".index(...)\"\n",
        "    #    print(\"hi \" + studentName) # fix this line\n",
        "    print(studentName + \" not found\")"
      ],
      "execution_count": 0,
      "outputs": []
    },
    {
      "metadata": {
        "id": "LiAznexXUOke",
        "colab_type": "code",
        "colab": {
          "base_uri": "https://localhost:8080/",
          "height": 50
        },
        "outputId": "9eca9433-bb83-4e60-bd08-3a56b3db360e"
      },
      "cell_type": "code",
      "source": [
        "# test your code\n",
        "printWorryC('James')\n",
        "printWorryC('Carter')"
      ],
      "execution_count": 13,
      "outputs": [
        {
          "output_type": "stream",
          "text": [
            "James not found\n",
            "Carter not found\n"
          ],
          "name": "stdout"
        }
      ]
    },
    {
      "metadata": {
        "id": "HAc6kDOHUOki",
        "colab_type": "text"
      },
      "cell_type": "markdown",
      "source": [
        "## <font color='red'>Answer question 4 in the lab 2 worksheet</font>"
      ]
    },
    {
      "metadata": {
        "id": "Vp_QRLUmUOkj",
        "colab_type": "text"
      },
      "cell_type": "markdown",
      "source": [
        "# Q5: Sorting\n",
        "\n",
        "Let's say we want to spit out the students' scores sorted (we want to easily find the highest and lowest)\n",
        "\n",
        "If we type `studentWorry.sort()` (it will sort the scores \"in place\") which means that the scores list will be sorted but the names will no longer be matched studentWorry[4] and studentNames[4] won't go together any more.\n",
        "\n",
        "A 'recipe' for sorting two lists is to merge them together so that the names are 'attached' to the scores.  We'll get into the details in another lab, but for now, here's the invocation for a generic pair of lists\n",
        "\n",
        "`list1 = [3,2,4,1, 1]`\n",
        "\n",
        "`list2 = ['three', 'two', 'four', 'one', 'one2']`\n",
        "\n",
        "`list1, list2 = zip(*sorted(zip(list1, list2)))`\n",
        "\n",
        "After you execute this, list1 and list2 will be sorted based on the values in list1.  Modify the code so that it works for the survey data.\n"
      ]
    },
    {
      "metadata": {
        "id": "SMrDpFFUUOkk",
        "colab_type": "code",
        "colab": {
          "base_uri": "https://localhost:8080/",
          "height": 50
        },
        "outputId": "33217816-6821-4cba-b773-f7dc65bc0c9e"
      },
      "cell_type": "code",
      "source": [
        "# modify the following lines so that our list is sorted\n",
        "list1 = [3,2,4,1, 1]\n",
        "list2 = ['three', 'two', 'four', 'one', 'one2']\n",
        "list1, list2 = zip(*sorted(zip(list1, list2)))\n",
        "print(list1)  # replace this with print(studentWorry)\n",
        "print(list2)  # replace this with print(studentNames)"
      ],
      "execution_count": 14,
      "outputs": [
        {
          "output_type": "stream",
          "text": [
            "(1, 1, 2, 3, 4)\n",
            "('one', 'one2', 'two', 'three', 'four')\n"
          ],
          "name": "stdout"
        }
      ]
    },
    {
      "metadata": {
        "id": "Vs6Ab8OLUOkq",
        "colab_type": "text"
      },
      "cell_type": "markdown",
      "source": [
        "## <font color='red'>Answer question 5 in the lab 2 worksheet</font>"
      ]
    },
    {
      "metadata": {
        "id": "UkqBoArnUOkr",
        "colab_type": "raw"
      },
      "cell_type": "markdown",
      "source": [
        "# Q6: Put the two lists in a dictionary\n",
        "\n",
        "Looking things up in a list is pretty inefficient.  Python has to scan through the entire list to find the match.  Instead, we can populate a dictionary where the key will be the name and the value the score\n",
        "\n",
        "`students = {'Chris':5}`\n",
        "\n",
        "and then you can do: `students['Chris']` to look it up"
      ]
    },
    {
      "metadata": {
        "id": "mvoxKBH6UOkr",
        "colab_type": "code",
        "colab": {}
      },
      "cell_type": "code",
      "source": [
        "# write a loop to `populate' (fill in) the students dictionary from the two lists above\n",
        "students = {}\n",
        "\n",
        "# your code here"
      ],
      "execution_count": 0,
      "outputs": []
    },
    {
      "metadata": {
        "id": "Oc7ponObUOku",
        "colab_type": "code",
        "colab": {
          "base_uri": "https://localhost:8080/",
          "height": 67
        },
        "outputId": "e1a273c2-93c7-4776-b7a0-cb03325a4d6f"
      },
      "cell_type": "code",
      "source": [
        "# if you did this correctly the following code should work\n",
        "def printWorryD(studentName):\n",
        "    if studentName in students:\n",
        "        print(\"found student \" + studentName)\n",
        "    else:\n",
        "        print(\"didn't find student \" + studentName)\n",
        "\n",
        "printWorryD('Alexander')  # should find\n",
        "printWorryD('Chris')  # should not find\n",
        "printWorryD('Caitlin')  # should find"
      ],
      "execution_count": 16,
      "outputs": [
        {
          "output_type": "stream",
          "text": [
            "didn't find student Alexander\n",
            "didn't find student Chris\n",
            "didn't find student Caitlin\n"
          ],
          "name": "stdout"
        }
      ]
    },
    {
      "metadata": {
        "id": "YxrXrNHTUOkx",
        "colab_type": "text"
      },
      "cell_type": "markdown",
      "source": [
        "## <font color='red'>Answer question 6 in the lab 2 worksheet</font>"
      ]
    },
    {
      "metadata": {
        "id": "ehdHWwUeUOkx",
        "colab_type": "text"
      },
      "cell_type": "markdown",
      "source": [
        "# Q7: Let's stop worrying\n",
        "\n",
        "Write a list-comprehension style loop to change the 'worry' score to a 'relaxation' score, reverses the scale, so a 1 becomes a 5, a 2 becomes a 4, a 3 stays the same, a 4 becomes and 2, and a 5 becomes a 1.  \n",
        "\n",
        "Recall a list-comprehension looks something list\n",
        "\n",
        "`x = [1,2,3]`\n",
        "\n",
        "`doubles = [i*2 for i in x] # which will set doubles to [2,4,6]`"
      ]
    },
    {
      "metadata": {
        "id": "52J8mz2xUOkz",
        "colab_type": "code",
        "colab": {}
      },
      "cell_type": "code",
      "source": [
        "# write a list comprehension so that we have a list with a relax score\n",
        "# Wilbur should have a relaxation score of 5\n",
        "\n",
        "studentRelaxation = []"
      ],
      "execution_count": 0,
      "outputs": []
    },
    {
      "metadata": {
        "id": "rjoR2zkVUOk1",
        "colab_type": "text"
      },
      "cell_type": "markdown",
      "source": [
        "## <font color='red'>Answer question 7 in the lab 2 worksheet</font>"
      ]
    },
    {
      "metadata": {
        "id": "IGhU30rhUOk3",
        "colab_type": "text"
      },
      "cell_type": "markdown",
      "source": [
        "# Q8: Practising with NumPy\n",
        "\n",
        "Ok, let's convert the scores to a numpy array so we can do some more interesting stuff with it\n",
        "\n",
        "Execute the following cell to make the conversion"
      ]
    },
    {
      "metadata": {
        "id": "TkLCw7MDUOk4",
        "colab_type": "code",
        "colab": {}
      },
      "cell_type": "code",
      "source": [
        "import numpy as np\n",
        "npStudentWorry = np.array(studentWorry)"
      ],
      "execution_count": 0,
      "outputs": []
    },
    {
      "metadata": {
        "id": "fBEm_Od5UOk7",
        "colab_type": "text"
      },
      "cell_type": "markdown",
      "source": [
        "## Q8A: Write one line of code (super simple using ufuncs) to change worry to relaxation"
      ]
    },
    {
      "metadata": {
        "id": "8Qffl-frUOk7",
        "colab_type": "code",
        "colab": {}
      },
      "cell_type": "code",
      "source": [
        "npStudentRelaxation = npStudentWorry  # change this\n"
      ],
      "execution_count": 0,
      "outputs": []
    },
    {
      "metadata": {
        "id": "RuhbIXbsUOk9",
        "colab_type": "text"
      },
      "cell_type": "markdown",
      "source": [
        "## Q8B: Write one line of code to spit out a boolean 'mask' of students who have a worry score greater than 3"
      ]
    },
    {
      "metadata": {
        "id": "Rj1HPHHqUOk9",
        "colab_type": "code",
        "colab": {},
        "outputId": "97d6abd3-4864-4394-adab-92ae15bc1bcd"
      },
      "cell_type": "code",
      "source": [
        "worriedStudents = []  # modify this line\n",
        "sum(worriedStudents)  # if you do this right, you should get back 2"
      ],
      "execution_count": 0,
      "outputs": [
        {
          "output_type": "execute_result",
          "data": {
            "text/plain": [
              "0"
            ]
          },
          "metadata": {
            "tags": []
          },
          "execution_count": 42
        }
      ]
    },
    {
      "metadata": {
        "id": "3WHXKrx5UOlA",
        "colab_type": "text"
      },
      "cell_type": "markdown",
      "source": [
        "# Q8C: Write a function that lists all the students that are 'extreme': either 1 or 5"
      ]
    },
    {
      "metadata": {
        "id": "HKCM9WchUOlA",
        "colab_type": "code",
        "colab": {}
      },
      "cell_type": "code",
      "source": [
        "extremeStudents = []  # modify this... hint: you'll need to first set up names so you can get at them\n",
        "for z in extremeStudents:  \n",
        "    print()   # modify this"
      ],
      "execution_count": 0,
      "outputs": []
    },
    {
      "metadata": {
        "id": "hOlrB0TIUOlC",
        "colab_type": "text"
      },
      "cell_type": "markdown",
      "source": [
        "## <font color='red'>Answer question 8 in the lab 2 worksheet</font>"
      ]
    },
    {
      "metadata": {
        "id": "M6mob4ACUOlC",
        "colab_type": "code",
        "colab": {}
      },
      "cell_type": "code",
      "source": [
        ""
      ],
      "execution_count": 0,
      "outputs": []
    }
  ]
}