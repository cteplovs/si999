{
  "nbformat": 4,
  "nbformat_minor": 0,
  "metadata": {
    "colab": {
      "name": "Copy of Copy of SI 370 FA 2017 Lecture 4.1 Take 2.ipynb",
      "version": "0.3.2",
      "provenance": []
    },
    "kernelspec": {
      "display_name": "Python [default]",
      "language": "python",
      "name": "python3"
    }
  },
  "cells": [
    {
      "cell_type": "markdown",
      "metadata": {
        "id": "view-in-github",
        "colab_type": "text"
      },
      "source": [
        "[View in Colaboratory](https://colab.research.google.com/github/cteplovs/si999/blob/master/Copy_of_Copy_of_SI_370_FA_2017_Lecture_4_1_Take_2.ipynb)"
      ]
    },
    {
      "metadata": {
        "id": "AJpPdyL6R_A5",
        "colab_type": "text"
      },
      "cell_type": "markdown",
      "source": [
        "# SI 370 FA 2017\n",
        "# Lecture 4.1+2 - For the Love of Statistics\n",
        "\n",
        "## September 27, 2017"
      ]
    },
    {
      "metadata": {
        "id": "t9Up2PErR_A6",
        "colab_type": "text"
      },
      "cell_type": "markdown",
      "source": [
        "# Overview of today \n",
        "\n",
        "- Announcements\n",
        "- Comments/Questions/Concerns\n",
        "- Last class: Yeah, about that\n",
        "- An experiment: embedding the lab in the lecture\n",
        "- Today (and next week): Statistics\n",
        "- Today: Univariate Statistics Take 2; Intro to multivariate?\n",
        "\n",
        "\n"
      ]
    },
    {
      "metadata": {
        "id": "iQ-WLyV_R_A7",
        "colab_type": "text"
      },
      "cell_type": "markdown",
      "source": [
        "# So, you want to explore your data...\n",
        "* How can we describe it?\n",
        "* What does it look like?\n",
        "* What sorts of \"preliminary checks\" can we perform on our data? \n",
        " * Why would we want to to this?"
      ]
    },
    {
      "metadata": {
        "id": "ss-Xk-t_R_A8",
        "colab_type": "text"
      },
      "cell_type": "markdown",
      "source": [
        "# Eyeballing your data: plotting\n",
        "* Introducing [Seaborn](http://seaborn.pydata.org/)\n",
        "> Seaborn is a library for making attractive and informative statistical graphics in Python. It is built on top of matplotlib and tightly integrated with the PyData stack, including support for numpy and pandas data structures and statistical routines from scipy and statsmodels.\n",
        "\n",
        "Um, ok.  How about [some examples](http://seaborn.pydata.org/examples/index.html)?"
      ]
    },
    {
      "metadata": {
        "id": "fbE8QEEER_A9",
        "colab_type": "text"
      },
      "cell_type": "markdown",
      "source": [
        "# Think about plotting the relationship between X and Y\n",
        "![](AnscombeData.png)\n",
        "(https://en.wikipedia.org/wiki/Anscombe's_quartet)"
      ]
    },
    {
      "metadata": {
        "id": "0Modw9l9R_A-",
        "colab_type": "text"
      },
      "cell_type": "markdown",
      "source": [
        "# A nice linear relationship, right?\n",
        "![](AnscombeQ1.png)\n",
        "(https://en.wikipedia.org/wiki/Anscombe's_quartet)"
      ]
    },
    {
      "metadata": {
        "id": "DdwWEt6UR_A-",
        "colab_type": "text"
      },
      "cell_type": "markdown",
      "source": [
        "# Anscombe's Quartet\n",
        "![](AnscombePlot.png)\n",
        "(https://en.wikipedia.org/wiki/Anscombe's_quartet)"
      ]
    },
    {
      "metadata": {
        "id": "5yApJ0a8R_A_",
        "colab_type": "text"
      },
      "cell_type": "markdown",
      "source": [
        "# Why do we care?\n",
        "\n",
        "* Statistical analysis requires good inputs\n",
        " * Remember Anscombe’s quartet\n",
        " * Which model should we use?\n",
        " * Tendencies/trends/patterns in data are important in picking the right models\n",
        "* Anomalies are important to detect and understand\n",
        "\n",
        "\n"
      ]
    },
    {
      "metadata": {
        "id": "-nggDvFuR_A_",
        "colab_type": "text"
      },
      "cell_type": "markdown",
      "source": [
        "## Purpose of EDA (broadly)\n",
        "* maximize insight into a data set\n",
        "* uncover underlying structure\n",
        "* extract important variables\n",
        "* detect outliers and anomalies\n",
        "* test underlying assumptions\n",
        "* develop parsimonious models and\n",
        "* determine optimal factor settings.\n",
        "\n",
        "(National Institute of Standards and Technology)"
      ]
    },
    {
      "metadata": {
        "id": "50MDfmtVR_BA",
        "colab_type": "text"
      },
      "cell_type": "markdown",
      "source": [
        "## Our primary goal in this class: understand the _downstream_ statistical analyses enough so that we can make good decisions"
      ]
    },
    {
      "metadata": {
        "id": "TJQZBHAYR_BB",
        "colab_type": "text"
      },
      "cell_type": "markdown",
      "source": [
        "# Spherical cows\n",
        "![Spherical cow](Spot_the_cow.gif)\n",
        "\n",
        "\n"
      ]
    },
    {
      "metadata": {
        "id": "7L7Kcs7jR_BC",
        "colab_type": "text"
      },
      "cell_type": "markdown",
      "source": [
        "## The average weight of a Jersey cow is 1,000 lbs.\n",
        "![](jersey.jpg)"
      ]
    },
    {
      "metadata": {
        "id": "WsjWKKhbR_BC",
        "colab_type": "code",
        "colab": {
          "base_uri": "https://localhost:8080/",
          "height": 196
        },
        "outputId": "7fc5b73d-77d2-40a3-bf27-cb5b2bd3a4db"
      },
      "cell_type": "code",
      "source": [
        "# This step is optional -- it just makes our tables a bit clearer\n",
        "from IPython.core.display import HTML\n",
        "css = open('style-table.css').read() + open('style-notebook.css').read()\n",
        "HTML('<style>{}</style>'.format(css))"
      ],
      "execution_count": 0,
      "outputs": [
        {
          "output_type": "error",
          "ename": "FileNotFoundError",
          "evalue": "ignored",
          "traceback": [
            "\u001b[0;31m---------------------------------------------------------------------------\u001b[0m",
            "\u001b[0;31mFileNotFoundError\u001b[0m                         Traceback (most recent call last)",
            "\u001b[0;32m<ipython-input-1-6fab06cda22c>\u001b[0m in \u001b[0;36m<module>\u001b[0;34m()\u001b[0m\n\u001b[1;32m      1\u001b[0m \u001b[0;32mfrom\u001b[0m \u001b[0mIPython\u001b[0m\u001b[0;34m.\u001b[0m\u001b[0mcore\u001b[0m\u001b[0;34m.\u001b[0m\u001b[0mdisplay\u001b[0m \u001b[0;32mimport\u001b[0m \u001b[0mHTML\u001b[0m\u001b[0;34m\u001b[0m\u001b[0m\n\u001b[0;32m----> 2\u001b[0;31m \u001b[0mcss\u001b[0m \u001b[0;34m=\u001b[0m \u001b[0mopen\u001b[0m\u001b[0;34m(\u001b[0m\u001b[0;34m'style-table.css'\u001b[0m\u001b[0;34m)\u001b[0m\u001b[0;34m.\u001b[0m\u001b[0mread\u001b[0m\u001b[0;34m(\u001b[0m\u001b[0;34m)\u001b[0m \u001b[0;34m+\u001b[0m \u001b[0mopen\u001b[0m\u001b[0;34m(\u001b[0m\u001b[0;34m'style-notebook.css'\u001b[0m\u001b[0;34m)\u001b[0m\u001b[0;34m.\u001b[0m\u001b[0mread\u001b[0m\u001b[0;34m(\u001b[0m\u001b[0;34m)\u001b[0m\u001b[0;34m\u001b[0m\u001b[0m\n\u001b[0m\u001b[1;32m      3\u001b[0m \u001b[0mHTML\u001b[0m\u001b[0;34m(\u001b[0m\u001b[0;34m'<style>{}</style>'\u001b[0m\u001b[0;34m.\u001b[0m\u001b[0mformat\u001b[0m\u001b[0;34m(\u001b[0m\u001b[0mcss\u001b[0m\u001b[0;34m)\u001b[0m\u001b[0;34m)\u001b[0m\u001b[0;34m\u001b[0m\u001b[0m\n",
            "\u001b[0;31mFileNotFoundError\u001b[0m: [Errno 2] No such file or directory: 'style-table.css'"
          ]
        }
      ]
    },
    {
      "metadata": {
        "id": "6b-NmDkZR_BH",
        "colab_type": "text"
      },
      "cell_type": "markdown",
      "source": [
        "# Let's make some spherical cows..."
      ]
    },
    {
      "metadata": {
        "id": "Jo6ANtHRR_BJ",
        "colab_type": "code",
        "colab": {}
      },
      "cell_type": "code",
      "source": [
        "import numpy as np\n",
        "import pandas as pd\n",
        "from scipy.stats import norm\n",
        "import seaborn as sns"
      ],
      "execution_count": 0,
      "outputs": []
    },
    {
      "metadata": {
        "id": "tN55nrm3R_BL",
        "colab_type": "code",
        "colab": {
          "base_uri": "https://localhost:8080/",
          "height": 151
        },
        "outputId": "59fc8676-637b-42a7-ec2c-0119d10bb305"
      },
      "cell_type": "code",
      "source": [
        "# The weights of a herd of 80 cows\n",
        "measures = (np.random.standard_normal(80)*150+1000).astype(int)\n",
        "measures"
      ],
      "execution_count": 0,
      "outputs": [
        {
          "output_type": "execute_result",
          "data": {
            "text/plain": [
              "array([1077,  976, 1026, 1042, 1103,  973,  866, 1276,  607,  963, 1085,\n",
              "       1068, 1081,  994,  970,  915,  800, 1094,  945, 1144, 1195, 1001,\n",
              "       1308, 1258, 1076,  962,  972,  986, 1059,  895,  940,  969, 1272,\n",
              "       1136, 1279,  754, 1015, 1076,  756,  890,  761,  841,  886, 1027,\n",
              "       1132,  972,  821, 1040,  542,  872,  806, 1103, 1007, 1002, 1188,\n",
              "        989, 1036,  720, 1216,  950, 1028, 1480,  752,  971, 1059,  914,\n",
              "       1208,  809, 1008, 1016,  887,  748,  905,  764, 1195,  818,  778,\n",
              "        744,  832,  822])"
            ]
          },
          "metadata": {
            "tags": []
          },
          "execution_count": 3
        }
      ]
    },
    {
      "metadata": {
        "id": "YbIPcvquR_BO",
        "colab_type": "text"
      },
      "cell_type": "markdown",
      "source": [
        "# <font color=\"red\">BEGIN Q1: Create some objects of your own\n",
        "Think of some object and some property of that object.  I used cows and their weights.  Pick something that you know something about, and create a NumPy array of some number of them (ideally between 20 and 50000), recording some property.  So you might choose something like the height of undergraduate students, etc.  Pick somethink that will *likely* have a normal distribution (which is probably most things you can think of.</font>\n",
        "\n",
        "First, pick the number that you want and assign it to numberOfObjects, then pick the mean value and assign it to meanOfProperty, and finally pick the variance and assign it to varianceOfProperty.  It doesn't matter what you pick, but if you're unsure pick 1/5 of the mean."
      ]
    },
    {
      "metadata": {
        "id": "gqBwqEhAR_BO",
        "colab_type": "code",
        "colab": {}
      },
      "cell_type": "code",
      "source": [
        "numberOfObjects = 1000    # change 0 to some number between 20 and 50000\n",
        "meanOfProperty = 100     # change 0 to the mean value of the property you're interested in\n",
        "standardDeviationOfProperty = 5 # change 0 to the variance of the property -- try meanOfProperty/5 if you have no idea"
      ],
      "execution_count": 0,
      "outputs": []
    },
    {
      "metadata": {
        "id": "8lirpwDSR_BQ",
        "colab_type": "text"
      },
      "cell_type": "markdown",
      "source": [
        "Now create some data by asking for a random sample from a normal distribution, scaled so that it matches the mean and variance you want:"
      ]
    },
    {
      "metadata": {
        "id": "NtTLaMQVR_BR",
        "colab_type": "code",
        "colab": {
          "base_uri": "https://localhost:8080/",
          "height": 1310
        },
        "outputId": "6d58958b-7938-4f54-e7c7-749f50073feb"
      },
      "cell_type": "code",
      "source": [
        "things = np.random.standard_normal(numberOfObjects)*standardDeviationOfProperty+meanOfProperty\n",
        "# And let's say we want integers instead of floats:\n",
        "things = things.astype(int)\n",
        "things"
      ],
      "execution_count": 0,
      "outputs": [
        {
          "output_type": "execute_result",
          "data": {
            "text/plain": [
              "array([103,  99,  99,  98, 100,  94, 100,  99, 107,  90, 103, 105,  97,\n",
              "       105,  95,  91,  98, 100,  93,  88,  93, 100, 106, 112,  95, 110,\n",
              "       102,  96,  95,  93,  99, 105, 102,  94, 107, 101, 104, 100, 102,\n",
              "        94,  97, 100, 114, 107, 105, 100,  95, 107,  98, 103, 100,  91,\n",
              "       104,  97,  98,  98,  99, 101,  94, 102,  87, 106,  94,  94,  94,\n",
              "        97,  96, 101, 103,  94,  97,  92, 103, 105,  94, 100, 103,  91,\n",
              "        98,  95,  96,  97, 104, 100,  99,  96,  94,  96, 108,  98, 100,\n",
              "        95, 108, 100,  94, 102,  93,  99,  99, 101, 108,  99, 106,  98,\n",
              "       115,  98,  98, 101,  94, 100,  98,  96, 101,  89, 105, 102, 101,\n",
              "       102, 103, 104, 105,  99,  98,  95, 100, 107,  99,  97, 103, 104,\n",
              "        95, 100, 109,  93,  99,  92, 103, 101,  99, 105, 111, 103,  99,\n",
              "        85,  99, 103, 105, 104,  99, 106,  98, 112,  90, 104, 105,  99,\n",
              "        99, 106, 101,  91,  97, 104,  95,  94,  94,  92,  96,  89,  98,\n",
              "        88,  99, 102, 100,  97,  94,  94, 100,  95, 105, 101, 100, 103,\n",
              "       102,  99, 101,  99,  92, 102,  98,  93, 109, 103,  94,  93, 104,\n",
              "       101, 102,  97, 101,  98,  94,  97, 105,  95,  91, 107, 103,  99,\n",
              "        96, 102, 106,  97,  92,  96, 104,  95, 101,  99,  97,  96,  98,\n",
              "        99, 103, 101,  97,  98,  96, 105, 100,  93,  96,  96, 103,  97,\n",
              "       103, 108,  98, 105,  97, 102, 103, 103, 100, 102,  98,  96,  99,\n",
              "       111, 101, 101, 102,  94, 106, 101,  98,  96,  97, 104, 104, 101,\n",
              "       102,  96,  96, 108, 100, 108, 101, 111, 100, 105,  95,  92,  96,\n",
              "        97, 102,  97,  99,  97,  95, 102, 100, 104, 101, 101, 104, 102,\n",
              "        91,  98, 105, 100, 104,  95, 106, 106,  98,  95, 106, 111, 100,\n",
              "        96, 100, 106, 103,  92,  91,  92,  97, 101,  96,  97, 100,  98,\n",
              "        91, 102, 100,  97, 111,  98, 101, 104,  94, 106,  98, 105, 101,\n",
              "        96,  94,  97,  96, 102,  97, 101,  89, 100,  99, 100,  98,  97,\n",
              "       101, 101,  98, 106, 104,  97, 100,  99, 101, 106, 101, 104,  98,\n",
              "       104, 101,  97, 101,  92, 100, 106, 107, 104, 100, 106, 103, 100,\n",
              "       107,  97,  92,  99, 101, 102,  98, 101, 101,  97, 100, 101, 108,\n",
              "        97, 110, 100,  98,  98, 102,  94, 101, 109, 108, 100, 100,  98,\n",
              "        96,  92,  94,  97,  91,  94, 104,  94, 101, 102, 101, 104, 104,\n",
              "        95, 104, 100,  96,  89,  95, 105,  98,  90,  88, 103,  99,  91,\n",
              "       103,  99, 105,  97,  94, 101,  96, 109, 101,  96,  95, 101, 100,\n",
              "       107,  99,  93, 103, 100, 103, 100,  99,  89,  94,  95, 102,  98,\n",
              "        91,  94,  99, 100,  94, 105,  97,  94, 103, 102, 109,  99, 104,\n",
              "       100, 105,  94,  97, 108,  97,  98, 106,  96,  95,  93,  89, 101,\n",
              "        99,  96,  99,  97,  99,  95, 100, 103, 102,  89,  90, 105,  98,\n",
              "       103,  93,  99, 100, 101,  98,  95, 103,  97,  97, 100,  99,  92,\n",
              "       102,  98,  96,  95,  97,  97,  98, 109,  94,  96,  98,  98, 102,\n",
              "       100,  95, 106,  98, 101, 103, 107,  99,  97, 101, 103, 105,  94,\n",
              "        91, 102,  99,  99, 106,  95,  92, 100, 100,  96, 105,  99, 101,\n",
              "       101,  95, 101, 102,  98,  99,  86,  96,  99, 100, 103,  94, 101,\n",
              "        96, 107,  97, 110, 100,  93, 102, 111, 102, 102, 103,  95,  98,\n",
              "       110,  95,  97,  92,  87,  98, 104,  99,  99, 102,  98, 102,  98,\n",
              "       101, 108, 103,  95,  94,  99,  97, 100,  94, 104,  93, 101, 104,\n",
              "        97,  97, 100,  96,  98,  89, 103,  97, 109, 100,  96, 103, 101,\n",
              "       107, 106, 105, 102,  98,  99,  97,  92, 104, 104, 100, 103,  96,\n",
              "        99, 100,  89, 102,  98,  94,  97,  96,  91,  91,  94,  97,  93,\n",
              "        98, 101,  92,  95,  99, 103, 106, 110,  93,  96, 103,  97, 102,\n",
              "       104,  93,  96,  99,  95,  98, 102, 100,  97,  91,  98,  91, 102,\n",
              "        95,  95,  95,  91,  93,  94,  96,  99,  94,  95,  99,  97, 102,\n",
              "       100, 101,  91, 100, 101, 106, 102, 101, 101,  97,  98, 100,  99,\n",
              "       100, 101, 106,  98, 110,  97,  95, 102, 104,  99,  96, 109, 105,\n",
              "        95,  98, 101, 103, 107, 104,  96, 107, 105,  96, 103, 100, 103,\n",
              "       104, 100, 105,  97, 101,  92, 100,  99, 107,  99, 106, 109, 108,\n",
              "       106,  99,  94,  97, 102, 106, 109, 103, 104, 102,  96, 101, 109,\n",
              "       102,  92, 102, 102, 100, 108,  88,  96,  97,  97, 100, 105,  96,\n",
              "       101,  97, 103, 102, 100, 104, 101,  92,  98, 105,  95, 101, 103,\n",
              "        81,  90, 105, 104, 101, 102, 100, 100, 100, 102,  97,  98,  92,\n",
              "       104,  94,  97, 107, 109, 101,  99,  92,  95,  97, 102,  95, 101,\n",
              "       102, 104,  98, 101, 105,  93, 104, 111, 105, 100, 107,  94,  97,\n",
              "        95,  92, 109,  93,  91,  95, 103, 102, 101,  98, 112, 100,  98,\n",
              "        96, 111, 109, 100,  97, 105, 106, 105,  95, 102,  89,  91, 104,\n",
              "        99, 105, 101, 102, 101,  90,  95, 102, 101,  96,  97, 106, 102,\n",
              "        96, 106, 107, 107, 107,  99,  97, 101, 105, 104, 103, 101,  97,\n",
              "       102,  92, 101,  93,  97,  95,  91,  96, 100,  98,  98,  98,  91,\n",
              "       111, 103,  89, 104, 101,  97,  97, 107, 102, 102,  86, 101, 104,\n",
              "       105, 101, 103,  89,  96, 109,  96,  93,  93, 101,  96, 103, 107,\n",
              "       100,  87, 101, 102, 107,  95, 108,  98, 103,  99, 103, 109,  99,\n",
              "       101,  99,  87, 104, 106, 101,  94,  93, 102,  94, 100,  99,  99,\n",
              "        98, 104, 103, 114, 111,  96,  97,  97, 104,  89,  92,  98,  97,\n",
              "        88,  99, 100, 101,  94,  96,  96, 105, 101,  99,  97,  93,  97,\n",
              "        99,  98,  99,  99,  99,  95, 106,  99,  96, 102,  96,  96,  97,\n",
              "       101,  96,  98, 105, 114,  97, 101, 109,  93,  90,  94, 106, 106,\n",
              "       102,  98,  98,  94, 109, 103,  99,  94, 102,  96, 104, 105, 104,\n",
              "        97,  97, 108, 101, 102, 100,  95,  91, 100,  98,  99,  90, 102,\n",
              "        87,  97,  97, 103,  99,  92,  95, 102, 101,  97,  99,  96])"
            ]
          },
          "metadata": {
            "tags": []
          },
          "execution_count": 5
        }
      ]
    },
    {
      "metadata": {
        "id": "UjQQDtQlR_BT",
        "colab_type": "text"
      },
      "cell_type": "markdown",
      "source": [
        "# <font color=\"red\">END Q1</font>"
      ]
    },
    {
      "metadata": {
        "id": "rk7-fmX2R_BU",
        "colab_type": "text"
      },
      "cell_type": "markdown",
      "source": [
        "## Measures of central tendency\n",
        "* Mean\n",
        "* Median \n",
        "* Mode"
      ]
    },
    {
      "metadata": {
        "id": "zRDZA4MgR_BV",
        "colab_type": "text"
      },
      "cell_type": "markdown",
      "source": [
        "## Mean\n",
        "\n",
        "Add up all the values and divide by the number of values:\n",
        "\n",
        "$$mean = \\frac {\\sum{x_i}} {n}$$\n"
      ]
    },
    {
      "metadata": {
        "id": "aBjq9tIRR_BV",
        "colab_type": "code",
        "colab": {
          "base_uri": "https://localhost:8080/",
          "height": 34
        },
        "outputId": "ec333b6e-54ad-4cc5-b8cf-310dea6dea42"
      },
      "cell_type": "code",
      "source": [
        "sum(measures)/len(measures)"
      ],
      "execution_count": 0,
      "outputs": [
        {
          "output_type": "execute_result",
          "data": {
            "text/plain": [
              "980.6625"
            ]
          },
          "metadata": {
            "tags": []
          },
          "execution_count": 6
        }
      ]
    },
    {
      "metadata": {
        "id": "AalVLrahR_BY",
        "colab_type": "code",
        "colab": {
          "base_uri": "https://localhost:8080/",
          "height": 34
        },
        "outputId": "bae6b465-7148-4262-8aeb-e95e8fabc26a"
      },
      "cell_type": "code",
      "source": [
        "np.mean(measures) # find the mean"
      ],
      "execution_count": 0,
      "outputs": [
        {
          "output_type": "execute_result",
          "data": {
            "text/plain": [
              "980.6625"
            ]
          },
          "metadata": {
            "tags": []
          },
          "execution_count": 7
        }
      ]
    },
    {
      "metadata": {
        "id": "VxEjBr--R_Bc",
        "colab_type": "text"
      },
      "cell_type": "markdown",
      "source": [
        "## Median\n",
        "\n",
        "sort all the numbers and find the one in the middle"
      ]
    },
    {
      "metadata": {
        "id": "2QIZVbb1R_Bd",
        "colab_type": "code",
        "colab": {
          "base_uri": "https://localhost:8080/",
          "height": 151
        },
        "outputId": "e524cb54-7d6a-4bb7-b682-0560a171f9aa"
      },
      "cell_type": "code",
      "source": [
        "measures = np.sort(measures)\n",
        "measures"
      ],
      "execution_count": 0,
      "outputs": [
        {
          "output_type": "execute_result",
          "data": {
            "text/plain": [
              "array([ 542,  607,  720,  744,  748,  752,  754,  756,  761,  764,  778,\n",
              "        800,  806,  809,  818,  821,  822,  832,  841,  866,  872,  886,\n",
              "        887,  890,  895,  905,  914,  915,  940,  945,  950,  962,  963,\n",
              "        969,  970,  971,  972,  972,  973,  976,  986,  989,  994, 1001,\n",
              "       1002, 1007, 1008, 1015, 1016, 1026, 1027, 1028, 1036, 1040, 1042,\n",
              "       1059, 1059, 1068, 1076, 1076, 1077, 1081, 1085, 1094, 1103, 1103,\n",
              "       1132, 1136, 1144, 1188, 1195, 1195, 1208, 1216, 1258, 1272, 1276,\n",
              "       1279, 1308, 1480])"
            ]
          },
          "metadata": {
            "tags": []
          },
          "execution_count": 8
        }
      ]
    },
    {
      "metadata": {
        "id": "s7f8v5ZkR_Bg",
        "colab_type": "code",
        "colab": {
          "base_uri": "https://localhost:8080/",
          "height": 34
        },
        "outputId": "fccab288-17a0-420e-d2f8-4d5968fe9bcc"
      },
      "cell_type": "code",
      "source": [
        "measures[len(measures)//2]  # find middle value"
      ],
      "execution_count": 0,
      "outputs": [
        {
          "output_type": "execute_result",
          "data": {
            "text/plain": [
              "986"
            ]
          },
          "metadata": {
            "tags": []
          },
          "execution_count": 9
        }
      ]
    },
    {
      "metadata": {
        "id": "LFC4RP6GR_Bj",
        "colab_type": "code",
        "colab": {
          "base_uri": "https://localhost:8080/",
          "height": 34
        },
        "outputId": "e43bd418-d4c9-447a-8814-af1c3e2eae42"
      },
      "cell_type": "code",
      "source": [
        "np.median(measures)"
      ],
      "execution_count": 0,
      "outputs": [
        {
          "output_type": "execute_result",
          "data": {
            "text/plain": [
              "981.0"
            ]
          },
          "metadata": {
            "tags": []
          },
          "execution_count": 10
        }
      ]
    },
    {
      "metadata": {
        "id": "JAYFB_taR_Bm",
        "colab_type": "text"
      },
      "cell_type": "markdown",
      "source": [
        "## Another alternative: Mode\n",
        "\n",
        "* mode = most common value\n",
        "* Unfortunately not in default numpy\n"
      ]
    },
    {
      "metadata": {
        "id": "tkbXjxXaR_Bm",
        "colab_type": "code",
        "colab": {
          "base_uri": "https://localhost:8080/",
          "height": 34
        },
        "outputId": "938ffc97-a959-488d-cbc2-d3ab81743e06"
      },
      "cell_type": "code",
      "source": [
        "\n",
        "from scipy import stats\n",
        "stats.mode(measures)"
      ],
      "execution_count": 0,
      "outputs": [
        {
          "output_type": "execute_result",
          "data": {
            "text/plain": [
              "ModeResult(mode=array([972]), count=array([2]))"
            ]
          },
          "metadata": {
            "tags": []
          },
          "execution_count": 11
        }
      ]
    },
    {
      "metadata": {
        "id": "92A_Z_0lR_Bp",
        "colab_type": "text"
      },
      "cell_type": "markdown",
      "source": [
        "# <font color=\"red\">BEGIN Q2: Calculate the mean, median and mode of your \"things\"\n",
        "\n",
        "Step 1: Just run the following cell (assumes you have some data in an np array called \"things\")"
      ]
    },
    {
      "metadata": {
        "id": "aGjbP0cxR_Bp",
        "colab_type": "code",
        "colab": {
          "base_uri": "https://localhost:8080/",
          "height": 34
        },
        "outputId": "0836eb02-da48-44f7-e64e-286116d39eea"
      },
      "cell_type": "code",
      "source": [
        "from scipy import stats # just in case we didn't already do it\n",
        "\n",
        "thingsMean = np.mean(things)\n",
        "thingsMedian = np.median(things)\n",
        "thingsMode = stats.mode(things)\n",
        "\n",
        "print(thingsMean, thingsMedian, thingsMode)"
      ],
      "execution_count": 0,
      "outputs": [
        {
          "output_type": "stream",
          "text": [
            "99.43 99.0 ModeResult(mode=array([101]), count=array([89]))\n"
          ],
          "name": "stdout"
        }
      ]
    },
    {
      "metadata": {
        "id": "mK7KXB2pR_Br",
        "colab_type": "text"
      },
      "cell_type": "markdown",
      "source": [
        "Step 2: Now, to demonstrate what happens to mean, median and mode when you add an outlier, append some crazy big value to the end of your things.  But let's not mess up our things array, so let's copy it first"
      ]
    },
    {
      "metadata": {
        "id": "ppJcF3VFR_Br",
        "colab_type": "code",
        "colab": {
          "base_uri": "https://localhost:8080/",
          "height": 34
        },
        "outputId": "d42e2355-38dd-471a-cc16-83104fe09864"
      },
      "cell_type": "code",
      "source": [
        "things2 = things.copy()\n",
        "things2 = np.append(measures,[10000])\n",
        "things2Mean = np.mean(things2)\n",
        "things2Median = np.median(things2)\n",
        "things2Mode = stats.mode(things2)\n",
        "\n",
        "print(things2Mean, things2Median, things2Mode)"
      ],
      "execution_count": 0,
      "outputs": [
        {
          "output_type": "stream",
          "text": [
            "1092.0123456790122 986.0 ModeResult(mode=array([972]), count=array([2]))\n"
          ],
          "name": "stdout"
        }
      ]
    },
    {
      "metadata": {
        "id": "T-x9dSyKR_Bt",
        "colab_type": "text"
      },
      "cell_type": "markdown",
      "source": [
        "Step 3: Record, in your own words, what happened to each of the mean, median and mode when you added that value:"
      ]
    },
    {
      "metadata": {
        "id": "OGjzmsYBR_Bt",
        "colab_type": "text"
      },
      "cell_type": "markdown",
      "source": [
        "<font color=\"red\">INSERT YOUR ANSWER HERE</font>"
      ]
    },
    {
      "metadata": {
        "id": "C77ARbBUR_Bv",
        "colab_type": "text"
      },
      "cell_type": "markdown",
      "source": [
        "# <font color=\"red\">END Q2</font>"
      ]
    },
    {
      "metadata": {
        "id": "Z7qxWo2BR_Bv",
        "colab_type": "text"
      },
      "cell_type": "markdown",
      "source": [
        "## Measures of dispersion\n",
        "\n",
        "* Percentile cutoffs\n",
        " * Interpercentile range\n",
        "* Variance\n",
        "* Standard Deviation"
      ]
    },
    {
      "metadata": {
        "id": "az6iw_d-R_Bw",
        "colab_type": "text"
      },
      "cell_type": "markdown",
      "source": [
        "## Percentiles\n",
        "\n",
        "* In a *sorted* list, find the threshold so that data is split\n",
        " * 5th percentile -- bottom 5% of measures below threshold\n",
        " * 25th percentile -- bottom 25% of measures below\n",
        " * 97th percentile -- bottom 97% of mesures below"
      ]
    },
    {
      "metadata": {
        "id": "gZYRO6NnR_Bx",
        "colab_type": "text"
      },
      "cell_type": "markdown",
      "source": [
        "## Numpy does this well\n",
        "\n",
        "`np.percentile(array,percentile,\n",
        "               interpolation='linear')`\n",
        "\n",
        "* linear: i + (j - i) \n",
        "* fraction, where fraction is the fractional part of the index surrounded by i and j.\n",
        "* lower: i.\n",
        "* higher: j.\n",
        "* nearest: i or j, whichever is nearest.\n",
        "* midpoint: (i + j) / 2.\n"
      ]
    },
    {
      "metadata": {
        "id": "368OwUMJR_Bx",
        "colab_type": "code",
        "colab": {
          "base_uri": "https://localhost:8080/",
          "height": 34
        },
        "outputId": "d7b6f286-b655-42a8-b830-46a059dd52ed"
      },
      "cell_type": "code",
      "source": [
        "np.percentile(measures,25) # the 25th percentile"
      ],
      "execution_count": 0,
      "outputs": [
        {
          "output_type": "execute_result",
          "data": {
            "text/plain": [
              "870.5"
            ]
          },
          "metadata": {
            "tags": []
          },
          "execution_count": 14
        }
      ]
    },
    {
      "metadata": {
        "id": "L8KemUc-R_B1",
        "colab_type": "code",
        "colab": {
          "base_uri": "https://localhost:8080/",
          "height": 34
        },
        "outputId": "f1107d35-1189-4ece-da62-2d86e3bcf690"
      },
      "cell_type": "code",
      "source": [
        "np.percentile(measures,25,interpolation='higher') # bump it up to the next higher real value from the data"
      ],
      "execution_count": 0,
      "outputs": [
        {
          "output_type": "execute_result",
          "data": {
            "text/plain": [
              "872"
            ]
          },
          "metadata": {
            "tags": []
          },
          "execution_count": 15
        }
      ]
    },
    {
      "metadata": {
        "id": "EehCSx0bR_B5",
        "colab_type": "text"
      },
      "cell_type": "markdown",
      "source": [
        "## Interpercentile Range\n",
        "\n",
        "* Sometimes we want to some range\n",
        " * e.g., 5th -- 95th percentile\n",
        " * clearly, 90% of measures sit here"
      ]
    },
    {
      "metadata": {
        "id": "Wer9dsshR_B5",
        "colab_type": "code",
        "colab": {
          "base_uri": "https://localhost:8080/",
          "height": 34
        },
        "outputId": "82057a73-1c9c-4dec-837e-b3014ab21416"
      },
      "cell_type": "code",
      "source": [
        "print(np.percentile(measures,5),\"-\",np.percentile(measures,95))"
      ],
      "execution_count": 0,
      "outputs": [
        {
          "output_type": "stream",
          "text": [
            "747.8 - 1272.2\n"
          ],
          "name": "stdout"
        }
      ]
    },
    {
      "metadata": {
        "id": "DTh7jXb-R_B9",
        "colab_type": "text"
      },
      "cell_type": "markdown",
      "source": [
        "## Variance\n",
        "\n",
        "How does the data spread around the mean?\n",
        "\n",
        "$$ variance = \\frac{\\sum{(x_i - \\mu)^2}}{n}$$\n",
        "\n",
        "where, $\\mu$ is the mean\n",
        "\n",
        "$$ mu = \\frac{\\sum{x_i}}{n}$$"
      ]
    },
    {
      "metadata": {
        "id": "7e7_R9SlR_B-",
        "colab_type": "text"
      },
      "cell_type": "markdown",
      "source": [
        "## Standard Deviation\n",
        "\n",
        "* Measure of dispersion \n",
        "\n",
        "![d](https://upload.wikimedia.org/wikipedia/commons/thumb/8/8c/Standard_deviation_diagram.svg/640px-Standard_deviation_diagram.svg.png \"sd\")"
      ]
    },
    {
      "metadata": {
        "id": "GmCvvPq0R_B_",
        "colab_type": "code",
        "colab": {}
      },
      "cell_type": "code",
      "source": [
        ""
      ],
      "execution_count": 0,
      "outputs": []
    },
    {
      "metadata": {
        "id": "bNRE1L6oR_CB",
        "colab_type": "code",
        "colab": {},
        "outputId": "3edbc9db-d13f-48ba-f471-79ff1f186487"
      },
      "cell_type": "code",
      "source": [
        "print(np.percentile(measures,5),\"-\",np.percentile(measures,95))\n",
        "print(np.var(measures))\n",
        "print(np.std(measures))  # this should be the square root of variance"
      ],
      "execution_count": 0,
      "outputs": [
        {
          "output_type": "stream",
          "text": [
            "687.85 - 1261.25\n",
            "25731.274375\n",
            "160.409707858\n"
          ],
          "name": "stdout"
        }
      ]
    },
    {
      "metadata": {
        "id": "lXIWAOvPR_CD",
        "colab_type": "text"
      },
      "cell_type": "markdown",
      "source": [
        "# <font color=\"red\">BEGIN Q3: Measures of dispersion</font>\n",
        "Run the following cell.  Does the output for standard deviation match what you asked for when you first generated the data in Q1? What's the relationship between the 5th-to-95th percentile range and the standard deviation? Answer below"
      ]
    },
    {
      "metadata": {
        "id": "89zS8J0IR_CE",
        "colab_type": "code",
        "colab": {},
        "collapsed": true
      },
      "cell_type": "code",
      "source": [
        "print(np.percentile(things,5),\"-\",np.percentile(things,95))\n",
        "print(np.var(things))\n",
        "print(np.std(things))  # this should be the square root of variance"
      ],
      "execution_count": 0,
      "outputs": []
    },
    {
      "metadata": {
        "id": "J8K6HBQZR_CG",
        "colab_type": "text"
      },
      "cell_type": "markdown",
      "source": [
        "<font color=\"red\">INSERT YOUR ANSWER HERE</font>"
      ]
    },
    {
      "metadata": {
        "id": "8BF1ySbtR_CG",
        "colab_type": "text"
      },
      "cell_type": "markdown",
      "source": [
        "# <font color=\"red\">END Q3</font>"
      ]
    },
    {
      "metadata": {
        "id": "OzmuHIz9R_CG",
        "colab_type": "text"
      },
      "cell_type": "markdown",
      "source": [
        "# Visualizing data with Seaborn\n",
        "* Visualization package built on top of matplotlib\n",
        "* It's meant to make your life better\n",
        "* Plays well with pandas, numpy, scipy, and statsmodels\n",
        "* Many different visualization are included:\n",
        " * Strip plots, Swarm plots, Violin plots\n",
        " * Box plots\n",
        " * Histograms\n",
        " \n",
        " We need to import the package, and it's typically imported as sns:\n",
        " \n",
        " ```\n",
        " import seabord as sns\n",
        " ``` \n",
        " \n",
        " and don't forget to inline matplotlib (that's a jupyter thing):\n",
        "\n",
        " ```\n",
        " %matplotlib inline\n",
        " ```\n",
        "\n",
        "[seaborn.pydata.org](http://seaborn.pydata.org)"
      ]
    },
    {
      "metadata": {
        "id": "T6YiNbPeR_CH",
        "colab_type": "text"
      },
      "cell_type": "markdown",
      "source": [
        "## Strip Plot"
      ]
    },
    {
      "metadata": {
        "id": "km9ZDDl0R_CH",
        "colab_type": "code",
        "colab": {
          "base_uri": "https://localhost:8080/",
          "height": 282
        },
        "outputId": "d037ea71-fa9f-4916-f38a-948a3132c803"
      },
      "cell_type": "code",
      "source": [
        "%matplotlib inline\n",
        "import seaborn as sns  # you might need to do: conda install seaborn\n",
        "sns.stripplot(x=measures)"
      ],
      "execution_count": 0,
      "outputs": [
        {
          "output_type": "execute_result",
          "data": {
            "text/plain": [
              "<matplotlib.axes._subplots.AxesSubplot at 0x7fbfb6de3cc0>"
            ]
          },
          "metadata": {
            "tags": []
          },
          "execution_count": 17
        },
        {
          "output_type": "display_data",
          "data": {
            "image/png": "[encoded data removed]",
            "text/plain": [
              "<matplotlib.figure.Figure at 0x7fbfb6de3a20>"
            ]
          },
          "metadata": {
            "tags": []
          }
        }
      ]
    },
    {
      "metadata": {
        "id": "Mo2kflTIR_CK",
        "colab_type": "text"
      },
      "cell_type": "markdown",
      "source": [
        "## Swarm Plot"
      ]
    },
    {
      "metadata": {
        "id": "LNyb5WuVR_CK",
        "colab_type": "code",
        "colab": {
          "base_uri": "https://localhost:8080/",
          "height": 282
        },
        "outputId": "63ce0a55-efd8-401d-d747-be1ae9f21bcb"
      },
      "cell_type": "code",
      "source": [
        "sns.swarmplot(x=measures)"
      ],
      "execution_count": 0,
      "outputs": [
        {
          "output_type": "execute_result",
          "data": {
            "text/plain": [
              "<matplotlib.axes._subplots.AxesSubplot at 0x7fbfb6dead30>"
            ]
          },
          "metadata": {
            "tags": []
          },
          "execution_count": 18
        },
        {
          "output_type": "display_data",
          "data": {
            "image/png": "[encoded data removed]",
            "text/plain": [
              "<matplotlib.figure.Figure at 0x7fbfb6d51630>"
            ]
          },
          "metadata": {
            "tags": []
          }
        }
      ]
    },
    {
      "metadata": {
        "id": "VZjiCRKsR_CM",
        "colab_type": "text"
      },
      "cell_type": "markdown",
      "source": [
        "## Violin Plot\n",
        "* If we have too much data"
      ]
    },
    {
      "metadata": {
        "id": "61G2YmPeR_CN",
        "colab_type": "code",
        "colab": {
          "base_uri": "https://localhost:8080/",
          "height": 369
        },
        "outputId": "f816752c-701a-4b1e-8669-f2563b59f4d2"
      },
      "cell_type": "code",
      "source": [
        "sns.violinplot(x=measures,color=\"#d7d0f3\")"
      ],
      "execution_count": 0,
      "outputs": [
        {
          "output_type": "stream",
          "text": [
            "/usr/local/lib/python3.6/dist-packages/seaborn/categorical.py:588: FutureWarning: remove_na is deprecated and is a private function. Do not use.\n",
            "  kde_data = remove_na(group_data)\n",
            "/usr/local/lib/python3.6/dist-packages/seaborn/categorical.py:816: FutureWarning: remove_na is deprecated and is a private function. Do not use.\n",
            "  violin_data = remove_na(group_data)\n"
          ],
          "name": "stderr"
        },
        {
          "output_type": "execute_result",
          "data": {
            "text/plain": [
              "<matplotlib.axes._subplots.AxesSubplot at 0x7fbfb6d2d780>"
            ]
          },
          "metadata": {
            "tags": []
          },
          "execution_count": 19
        },
        {
          "output_type": "display_data",
          "data": {
            "image/png": "[encoded data removed]",
            "text/plain": [
              "<matplotlib.figure.Figure at 0x7fbfb4cd6d30>"
            ]
          },
          "metadata": {
            "tags": []
          }
        }
      ]
    },
    {
      "metadata": {
        "id": "5oKzrGAgR_CP",
        "colab_type": "text"
      },
      "cell_type": "markdown",
      "source": [
        "## Box Plot"
      ]
    },
    {
      "metadata": {
        "id": "7JVGAxmGR_CQ",
        "colab_type": "code",
        "colab": {
          "base_uri": "https://localhost:8080/",
          "height": 335
        },
        "outputId": "31cf82cd-074c-496e-bf30-a8b5215df091"
      },
      "cell_type": "code",
      "source": [
        "sns.boxplot(x=measures) "
      ],
      "execution_count": 0,
      "outputs": [
        {
          "output_type": "stream",
          "text": [
            "/usr/local/lib/python3.6/dist-packages/seaborn/categorical.py:454: FutureWarning: remove_na is deprecated and is a private function. Do not use.\n",
            "  box_data = remove_na(group_data)\n"
          ],
          "name": "stderr"
        },
        {
          "output_type": "execute_result",
          "data": {
            "text/plain": [
              "<matplotlib.axes._subplots.AxesSubplot at 0x7fbfb4c3dcc0>"
            ]
          },
          "metadata": {
            "tags": []
          },
          "execution_count": 20
        },
        {
          "output_type": "display_data",
          "data": {
            "image/png": "[encoded data removed]",
            "text/plain": [
              "<matplotlib.figure.Figure at 0x7fbfb4c3da58>"
            ]
          },
          "metadata": {
            "tags": []
          }
        }
      ]
    },
    {
      "metadata": {
        "id": "sg5dZEFNR_CV",
        "colab_type": "text"
      },
      "cell_type": "markdown",
      "source": [
        "Here's a quick explanation of what a box and whisker plot means:\n",
        "![d](boxplot.png \"boxplot\")"
      ]
    },
    {
      "metadata": {
        "id": "rk2eO3EXR_CV",
        "colab_type": "text"
      },
      "cell_type": "markdown",
      "source": [
        "## Histogram\n",
        "\n",
        "We're going to use this a lot.  Seaborn puts a nice smooth line over a distribution.  We'll talk about that soon, but for now just think about it as an extrapolation:  if we had a bunch more data, the distribution would eventaully snooth out to something that looks like the line."
      ]
    },
    {
      "metadata": {
        "id": "morwVSVWR_CW",
        "colab_type": "code",
        "colab": {
          "base_uri": "https://localhost:8080/",
          "height": 265
        },
        "outputId": "b075d67b-47e7-4c80-ba72-64875850695d"
      },
      "cell_type": "code",
      "source": [
        "# x axis = value, y axis = count (frequency)\n",
        "sns.distplot(measures); "
      ],
      "execution_count": 0,
      "outputs": [
        {
          "output_type": "display_data",
          "data": {
            "image/png": "[encoded data removed]",
            "text/plain": [
              "<matplotlib.figure.Figure at 0x7fbfb4bdcf60>"
            ]
          },
          "metadata": {
            "tags": []
          }
        }
      ]
    },
    {
      "metadata": {
        "id": "Uq3_5xNvR_CY",
        "colab_type": "code",
        "colab": {
          "base_uri": "https://localhost:8080/",
          "height": 265
        },
        "outputId": "d4952fae-3111-4377-95f1-1cbe8641db5e"
      },
      "cell_type": "code",
      "source": [
        "sns.distplot(measures, rug=True); # show a strip plot on bottom -- we call it a \"rug\""
      ],
      "execution_count": 0,
      "outputs": [
        {
          "output_type": "display_data",
          "data": {
            "image/png": "[encoded data removed]",
            "text/plain": [
              "<matplotlib.figure.Figure at 0x7fbfb4b74438>"
            ]
          },
          "metadata": {
            "tags": []
          }
        }
      ]
    },
    {
      "metadata": {
        "id": "7Dnni64fR_Cc",
        "colab_type": "text"
      },
      "cell_type": "markdown",
      "source": [
        "# <font color=\"red\">BEGIN Q4: Test driving Seaborn</font>\n",
        "Your turn:  run the following cells on your data to generate the plots described above.  "
      ]
    },
    {
      "metadata": {
        "id": "F2oQIEfwR_Cc",
        "colab_type": "code",
        "colab": {}
      },
      "cell_type": "code",
      "source": [
        "%matplotlib inline\n",
        "\n",
        "import seaborn as sns  # you might need to do: conda install seaborn\n",
        "import matplotlib.pyplot as plt\n"
      ],
      "execution_count": 0,
      "outputs": []
    },
    {
      "metadata": {
        "id": "Ly0VRWDqR_Ce",
        "colab_type": "code",
        "colab": {
          "base_uri": "https://localhost:8080/",
          "height": 282
        },
        "outputId": "f3a5fa56-e408-470f-962f-48c00632f0d1"
      },
      "cell_type": "code",
      "source": [
        "sns.stripplot(x=things)"
      ],
      "execution_count": 0,
      "outputs": [
        {
          "output_type": "execute_result",
          "data": {
            "text/plain": [
              "<matplotlib.axes._subplots.AxesSubplot at 0x7fbfb49ca5f8>"
            ]
          },
          "metadata": {
            "tags": []
          },
          "execution_count": 24
        },
        {
          "output_type": "display_data",
          "data": {
            "image/png": "[encoded data removed]",
            "text/plain": [
              "<matplotlib.figure.Figure at 0x7fbfb4b74f60>"
            ]
          },
          "metadata": {
            "tags": []
          }
        }
      ]
    },
    {
      "metadata": {
        "id": "IiVWbCX-R_Cf",
        "colab_type": "code",
        "colab": {
          "base_uri": "https://localhost:8080/",
          "height": 282
        },
        "outputId": "b0012d8f-ad40-4bde-89a7-bc340260c5d4"
      },
      "cell_type": "code",
      "source": [
        "sns.swarmplot(x=things)"
      ],
      "execution_count": 0,
      "outputs": [
        {
          "output_type": "execute_result",
          "data": {
            "text/plain": [
              "<matplotlib.axes._subplots.AxesSubplot at 0x7fbfb49fca58>"
            ]
          },
          "metadata": {
            "tags": []
          },
          "execution_count": 25
        },
        {
          "output_type": "display_data",
          "data": {
            "image/png": "[encoded data removed]",
            "text/plain": [
              "<matplotlib.figure.Figure at 0x7fbfb49d5048>"
            ]
          },
          "metadata": {
            "tags": []
          }
        }
      ]
    },
    {
      "metadata": {
        "id": "V0n23FRIR_Cq",
        "colab_type": "code",
        "colab": {
          "base_uri": "https://localhost:8080/",
          "height": 369
        },
        "outputId": "fca193f1-fab1-49b7-823f-d75587604e86"
      },
      "cell_type": "code",
      "source": [
        "sns.violinplot(x=things)"
      ],
      "execution_count": 0,
      "outputs": [
        {
          "output_type": "stream",
          "text": [
            "/usr/local/lib/python3.6/dist-packages/seaborn/categorical.py:588: FutureWarning: remove_na is deprecated and is a private function. Do not use.\n",
            "  kde_data = remove_na(group_data)\n",
            "/usr/local/lib/python3.6/dist-packages/seaborn/categorical.py:816: FutureWarning: remove_na is deprecated and is a private function. Do not use.\n",
            "  violin_data = remove_na(group_data)\n"
          ],
          "name": "stderr"
        },
        {
          "output_type": "execute_result",
          "data": {
            "text/plain": [
              "<matplotlib.axes._subplots.AxesSubplot at 0x7fbfb4c2d518>"
            ]
          },
          "metadata": {
            "tags": []
          },
          "execution_count": 26
        },
        {
          "output_type": "display_data",
          "data": {
            "image/png": "[encoded data removed]",
            "text/plain": [
              "<matplotlib.figure.Figure at 0x7fbfb4987160>"
            ]
          },
          "metadata": {
            "tags": []
          }
        }
      ]
    },
    {
      "metadata": {
        "id": "y2WTcF-yR_Ct",
        "colab_type": "code",
        "colab": {
          "base_uri": "https://localhost:8080/",
          "height": 335
        },
        "outputId": "650cae37-2999-4310-bb03-9be5ab2045f3"
      },
      "cell_type": "code",
      "source": [
        "sns.boxplot(x=things)"
      ],
      "execution_count": 0,
      "outputs": [
        {
          "output_type": "stream",
          "text": [
            "/usr/local/lib/python3.6/dist-packages/seaborn/categorical.py:454: FutureWarning: remove_na is deprecated and is a private function. Do not use.\n",
            "  box_data = remove_na(group_data)\n"
          ],
          "name": "stderr"
        },
        {
          "output_type": "execute_result",
          "data": {
            "text/plain": [
              "<matplotlib.axes._subplots.AxesSubplot at 0x7fbfb495a4a8>"
            ]
          },
          "metadata": {
            "tags": []
          },
          "execution_count": 27
        },
        {
          "output_type": "display_data",
          "data": {
            "image/png": "[encoded data removed]",
            "text/plain": [
              "<matplotlib.figure.Figure at 0x7fbfb492d208>"
            ]
          },
          "metadata": {
            "tags": []
          }
        }
      ]
    },
    {
      "metadata": {
        "id": "0NaBqNeER_Cv",
        "colab_type": "code",
        "colab": {
          "base_uri": "https://localhost:8080/",
          "height": 282
        },
        "outputId": "5cb5e4e6-4b32-4818-8d22-0201c76bf701"
      },
      "cell_type": "code",
      "source": [
        "sns.distplot(things)"
      ],
      "execution_count": 0,
      "outputs": [
        {
          "output_type": "execute_result",
          "data": {
            "text/plain": [
              "<matplotlib.axes._subplots.AxesSubplot at 0x7fbfb48c36a0>"
            ]
          },
          "metadata": {
            "tags": []
          },
          "execution_count": 28
        },
        {
          "output_type": "display_data",
          "data": {
            "image/png": "[encoded data removed]",
            "text/plain": [
              "<matplotlib.figure.Figure at 0x7fbfb48e0240>"
            ]
          },
          "metadata": {
            "tags": []
          }
        }
      ]
    },
    {
      "metadata": {
        "id": "5abN-mtUR_Cz",
        "colab_type": "text"
      },
      "cell_type": "markdown",
      "source": [
        "# <font color=\"red\">END  Q4</font>"
      ]
    },
    {
      "metadata": {
        "id": "lG3pgdDSR_C1",
        "colab_type": "text"
      },
      "cell_type": "markdown",
      "source": [
        "## Expressiveness, Effectiveness, Scale\n",
        "\n",
        "* Expressiveness\n",
        " * What facts can we extract?\n",
        " * What facts *can't* we extract?\n",
        "* How well can we extract them?\n",
        "* How do they work with more data?\n",
        " * Consider different dimensions\n",
        " * More samples\n",
        " * More univariate data"
      ]
    },
    {
      "metadata": {
        "id": "APmxK0VQR_C1",
        "colab_type": "text"
      },
      "cell_type": "markdown",
      "source": [
        "## Why do we care about distributions?\n",
        "## World is not normal\n",
        "* Many other kinds of distributions\n",
        "* We can tell what they are by looking at distribution"
      ]
    },
    {
      "metadata": {
        "id": "qy_6BwkKR_C3",
        "colab_type": "text"
      },
      "cell_type": "markdown",
      "source": [
        "## Uniform"
      ]
    },
    {
      "metadata": {
        "id": "-Kax1ZTYR_C4",
        "colab_type": "code",
        "colab": {
          "base_uri": "https://localhost:8080/",
          "height": 282
        },
        "outputId": "474375bc-d089-4142-fdf0-110ca0bb0158"
      },
      "cell_type": "code",
      "source": [
        "uniform = np.random.uniform(-2,2,1000)  # low,high,count\n",
        "sns.distplot(uniform,kde=False,norm_hist=True)"
      ],
      "execution_count": 0,
      "outputs": [
        {
          "output_type": "execute_result",
          "data": {
            "text/plain": [
              "<matplotlib.axes._subplots.AxesSubplot at 0x7fbfb4832400>"
            ]
          },
          "metadata": {
            "tags": []
          },
          "execution_count": 29
        },
        {
          "output_type": "display_data",
          "data": {
            "image/png": "[encoded data removed]",
            "text/plain": [
              "<matplotlib.figure.Figure at 0x7fbfb486d9b0>"
            ]
          },
          "metadata": {
            "tags": []
          }
        }
      ]
    },
    {
      "metadata": {
        "id": "icjPl_7ER_C-",
        "colab_type": "text"
      },
      "cell_type": "markdown",
      "source": [
        "## Bimodal"
      ]
    },
    {
      "metadata": {
        "id": "uBbObqQrR_C_",
        "colab_type": "code",
        "colab": {
          "base_uri": "https://localhost:8080/",
          "height": 282
        },
        "outputId": "5c4f1f52-3d73-416e-da12-3d1d6bd03638"
      },
      "cell_type": "code",
      "source": [
        "bimodal = np.append(np.random.normal(-20,10,100),\n",
        "                    np.random.normal(20,10,100))\n",
        "sns.distplot(bimodal,kde=False,norm_hist=True)"
      ],
      "execution_count": 0,
      "outputs": [
        {
          "output_type": "execute_result",
          "data": {
            "text/plain": [
              "<matplotlib.axes._subplots.AxesSubplot at 0x7fbfb47d1278>"
            ]
          },
          "metadata": {
            "tags": []
          },
          "execution_count": 30
        },
        {
          "output_type": "display_data",
          "data": {
            "image/png": "[encoded data removed]",
            "text/plain": [
              "<matplotlib.figure.Figure at 0x7fbfb478b0b8>"
            ]
          },
          "metadata": {
            "tags": []
          }
        }
      ]
    },
    {
      "metadata": {
        "id": "07eOwHdoR_DK",
        "colab_type": "text"
      },
      "cell_type": "markdown",
      "source": [
        "# Poisson"
      ]
    },
    {
      "metadata": {
        "id": "0Ttr1TGRR_DM",
        "colab_type": "text"
      },
      "cell_type": "markdown",
      "source": [
        "$$ P(k~events~in~interval) = \\frac{\\lambda^ke^{-\\lambda}}{k!} $$\n",
        "\n",
        "$\\lambda$ is the event rate\n",
        "\n",
        "Examples\n",
        "* Meteor strikes\n",
        "* Arrival of patients to hospital"
      ]
    },
    {
      "metadata": {
        "id": "kV6wYUIWR_DN",
        "colab_type": "code",
        "colab": {
          "base_uri": "https://localhost:8080/",
          "height": 282
        },
        "outputId": "08054d2e-96ec-401d-e2a4-66fc36c75f1f"
      },
      "cell_type": "code",
      "source": [
        "# as lambda goes up --> looks more normal\n",
        "pois = np.random.poisson(4,100000) # lambda, count \n",
        "sns.distplot(pois,kde=False,bins=10,norm_hist=True)"
      ],
      "execution_count": 0,
      "outputs": [
        {
          "output_type": "execute_result",
          "data": {
            "text/plain": [
              "<matplotlib.axes._subplots.AxesSubplot at 0x7fbfb470ab00>"
            ]
          },
          "metadata": {
            "tags": []
          },
          "execution_count": 31
        },
        {
          "output_type": "display_data",
          "data": {
            "image/png": "[encoded data removed]",
            "text/plain": [
              "<matplotlib.figure.Figure at 0x7fbfb4807eb8>"
            ]
          },
          "metadata": {
            "tags": []
          }
        }
      ]
    },
    {
      "metadata": {
        "id": "r-QZzYs0R_DU",
        "colab_type": "text"
      },
      "cell_type": "markdown",
      "source": [
        "# Power/Zipf/Pareto\n",
        "\n",
        "$$ P = \\frac{x^{-a}}{\\zeta(a)}$$\n",
        "\n",
        "\"long tail\"\n",
        "* degree distribution\n",
        "* movie/music popularity\n",
        "* words\n",
        "\n",
        "## Note:  both axes are log-transformed"
      ]
    },
    {
      "metadata": {
        "id": "-Pt9UWQmR_DY",
        "colab_type": "code",
        "colab": {},
        "outputId": "a2a04504-64c1-41aa-e6de-bdfb2feb56e0"
      },
      "cell_type": "code",
      "source": [
        "# bit of a hack (seaborn)\n",
        "power = np.random.zipf(2,100000)\n",
        "ax = sns.plt.plot(np.histogram(power,bins=400)[0])\n",
        "ax[0].axes.set_xscale(\"log\")\n",
        "ax[0].axes.set_yscale(\"log\")"
      ],
      "execution_count": 0,
      "outputs": [
        {
          "output_type": "display_data",
          "data": {
            "image/png": "[encoded data removed]",
            "text/plain": [
              "<matplotlib.figure.Figure at 0x12e19ed30>"
            ]
          },
          "metadata": {
            "tags": []
          }
        }
      ]
    },
    {
      "metadata": {
        "id": "XYZb1XAUR_Df",
        "colab_type": "text"
      },
      "cell_type": "markdown",
      "source": [
        "## Visual Tests on Data"
      ]
    },
    {
      "metadata": {
        "id": "Aw95q5HqR_Dh",
        "colab_type": "code",
        "colab": {},
        "outputId": "f902eb03-3287-4bbe-e5f3-1efd0b6aff62"
      },
      "cell_type": "code",
      "source": [
        "testdata = (np.random.standard_normal(500)*20+150).astype(int)\n",
        "sns.distplot(testdata)"
      ],
      "execution_count": 0,
      "outputs": [
        {
          "output_type": "execute_result",
          "data": {
            "text/plain": [
              "<matplotlib.axes._subplots.AxesSubplot at 0x11d8505c0>"
            ]
          },
          "metadata": {
            "tags": []
          },
          "execution_count": 45
        },
        {
          "output_type": "display_data",
          "data": {
            "image/png": "[encoded data removed]",
            "text/plain": [
              "<matplotlib.figure.Figure at 0x11cf6d400>"
            ]
          },
          "metadata": {
            "tags": []
          }
        }
      ]
    },
    {
      "metadata": {
        "id": "wj06sRFZR_Dp",
        "colab_type": "text"
      },
      "cell_type": "markdown",
      "source": [
        "## Run Sequence\n",
        "* Run Sequence (index versus value)\n",
        "* flat and non-drifting\n",
        " * fixed-location assumption holds\n",
        "* vertical spread same over the entire plot, \n",
        " * then the fixed-variation assumption holds."
      ]
    },
    {
      "metadata": {
        "id": "Rcp3py6gR_Ds",
        "colab_type": "code",
        "colab": {},
        "outputId": "f6005243-b2f8-4970-84e9-5fd2c6b0d3af"
      },
      "cell_type": "code",
      "source": [
        "ax = sns.regplot(np.arange(len(testdata)),testdata,fit_reg=False)\n",
        "ax.set_ylim(0,250)\n",
        "ax.set_ylabel(\"val\")\n",
        "ax.set_xlabel(\"i\")"
      ],
      "execution_count": 0,
      "outputs": [
        {
          "output_type": "execute_result",
          "data": {
            "text/plain": [
              "<matplotlib.text.Text at 0x12d5e07b8>"
            ]
          },
          "metadata": {
            "tags": []
          },
          "execution_count": 237
        },
        {
          "output_type": "display_data",
          "data": {
            "image/png": "[encoded data removed]",
            "text/plain": [
              "<matplotlib.figure.Figure at 0x12f4dec50>"
            ]
          },
          "metadata": {
            "tags": []
          }
        }
      ]
    },
    {
      "metadata": {
        "id": "cbj4j_9lR_D0",
        "colab_type": "code",
        "colab": {},
        "outputId": "3c910459-7896-4f9c-9b88-97a6023be5d2"
      },
      "cell_type": "code",
      "source": [
        "drifting = np.array([(testdata[i]+i*.1) \n",
        "                     for i in np.arange(len(testdata))])\n",
        "sns.distplot(drifting,kde=False)"
      ],
      "execution_count": 0,
      "outputs": [
        {
          "output_type": "execute_result",
          "data": {
            "text/plain": [
              "<matplotlib.axes._subplots.AxesSubplot at 0x12d931160>"
            ]
          },
          "metadata": {
            "tags": []
          },
          "execution_count": 238
        },
        {
          "output_type": "display_data",
          "data": {
            "image/png": "[encoded data removed]",
            "text/plain": [
              "<matplotlib.figure.Figure at 0x12d5283c8>"
            ]
          },
          "metadata": {
            "tags": []
          }
        }
      ]
    },
    {
      "metadata": {
        "id": "54ZslPlGR_D8",
        "colab_type": "code",
        "colab": {},
        "outputId": "de8c0849-f9b9-4139-a8b0-8e48bfd68f66"
      },
      "cell_type": "code",
      "source": [
        "ax = sns.regplot(np.arange(len(drifting)),drifting,fit_reg=False)\n",
        "ax.set_ylim(0,300)\n",
        "ax.set_ylabel(\"val\")\n",
        "ax.set_xlabel(\"i\")"
      ],
      "execution_count": 0,
      "outputs": [
        {
          "output_type": "execute_result",
          "data": {
            "text/plain": [
              "<matplotlib.text.Text at 0x12e47a470>"
            ]
          },
          "metadata": {
            "tags": []
          },
          "execution_count": 239
        },
        {
          "output_type": "display_data",
          "data": {
            "image/png": "[encoded data removed]",
            "text/plain": [
              "<matplotlib.figure.Figure at 0x12e46fc18>"
            ]
          },
          "metadata": {
            "tags": []
          }
        }
      ]
    },
    {
      "metadata": {
        "id": "_zga4g9JR_EG",
        "colab_type": "code",
        "colab": {},
        "outputId": "54585002-32a8-45d1-ce27-014f83195a12"
      },
      "cell_type": "code",
      "source": [
        "expanding = np.array([(testdata[i]+i*np.random.randint(-1,1)*.2)\n",
        "                     for i in np.arange(len(testdata))])\n",
        "sns.distplot(expanding,kde=False,norm_hist=True)"
      ],
      "execution_count": 0,
      "outputs": [
        {
          "output_type": "execute_result",
          "data": {
            "text/plain": [
              "<matplotlib.axes._subplots.AxesSubplot at 0x12e4390b8>"
            ]
          },
          "metadata": {
            "tags": []
          },
          "execution_count": 240
        },
        {
          "output_type": "display_data",
          "data": {
            "image/png": "[encoded data removed]",
            "text/plain": [
              "<matplotlib.figure.Figure at 0x12e448438>"
            ]
          },
          "metadata": {
            "tags": []
          }
        }
      ]
    },
    {
      "metadata": {
        "id": "yByjkQ1LR_EQ",
        "colab_type": "code",
        "colab": {},
        "outputId": "9699d280-8810-40a5-d5f1-37df53178dcd"
      },
      "cell_type": "code",
      "source": [
        "ax = sns.regplot(np.arange(len(expanding)),expanding,fit_reg=False)\n",
        "ax.set_ylim(0,300)\n",
        "ax.set_ylabel(\"val\")\n",
        "ax.set_xlabel(\"i\")"
      ],
      "execution_count": 0,
      "outputs": [
        {
          "output_type": "execute_result",
          "data": {
            "text/plain": [
              "<matplotlib.text.Text at 0x12e0d1c50>"
            ]
          },
          "metadata": {
            "tags": []
          },
          "execution_count": 241
        },
        {
          "output_type": "display_data",
          "data": {
            "image/png": "[encoded data removed]",
            "text/plain": [
              "<matplotlib.figure.Figure at 0x12e4905f8>"
            ]
          },
          "metadata": {
            "tags": []
          }
        }
      ]
    },
    {
      "metadata": {
        "id": "eE9_i4_mR_Eb",
        "colab_type": "text"
      },
      "cell_type": "markdown",
      "source": [
        "# Lag Plot\n",
        "\n",
        "* Plot point $y_i$ versus $y_{i-1}$\n",
        "* If the lag plot is structureless\n",
        " * randomness assumption holds."
      ]
    },
    {
      "metadata": {
        "id": "zzomnl2CR_Ed",
        "colab_type": "code",
        "colab": {},
        "outputId": "36bdddb6-2463-4ba6-d977-62c2ea4d09db"
      },
      "cell_type": "code",
      "source": [
        "lag = testdata.copy()\n",
        "lag = np.array(lag[:-1])\n",
        "current = testdata[1:]\n",
        "ax = sns.regplot(current,lag,fit_reg=False)\n",
        "ax.set_ylabel(\"y_i-1\")\n",
        "ax.set_xlabel(\"y_i\")"
      ],
      "execution_count": 0,
      "outputs": [
        {
          "output_type": "execute_result",
          "data": {
            "text/plain": [
              "<matplotlib.text.Text at 0x12e650550>"
            ]
          },
          "metadata": {
            "tags": []
          },
          "execution_count": 242
        },
        {
          "output_type": "display_data",
          "data": {
            "image/png": "[encoded data removed]",
            "text/plain": [
              "<matplotlib.figure.Figure at 0x12f0d37f0>"
            ]
          },
          "metadata": {
            "tags": []
          }
        }
      ]
    },
    {
      "metadata": {
        "id": "xqF7BBihR_El",
        "colab_type": "code",
        "colab": {},
        "outputId": "331471b2-ae5a-4dfc-dfaf-13e97795c0c1"
      },
      "cell_type": "code",
      "source": [
        "connected = np.array([testdata[i]+testdata[i-1] for i in np.arange(500)])\n",
        "sns.distplot(connected,kde=False,norm_hist=True)"
      ],
      "execution_count": 0,
      "outputs": [
        {
          "output_type": "execute_result",
          "data": {
            "text/plain": [
              "<matplotlib.axes._subplots.AxesSubplot at 0x12f0f88d0>"
            ]
          },
          "metadata": {
            "tags": []
          },
          "execution_count": 243
        },
        {
          "output_type": "display_data",
          "data": {
            "image/png": "[encoded data removed]",
            "text/plain": [
              "<matplotlib.figure.Figure at 0x12f6af6d8>"
            ]
          },
          "metadata": {
            "tags": []
          }
        }
      ]
    },
    {
      "metadata": {
        "id": "3U1mGAA7R_Et",
        "colab_type": "code",
        "colab": {},
        "outputId": "35d47c82-3f28-4756-be95-cae0b227548c"
      },
      "cell_type": "code",
      "source": [
        "lag = connected.copy()\n",
        "lag = np.array(lag[:-1])\n",
        "current = connected[1:]\n",
        "ax = sns.regplot(current,lag,fit_reg=False)\n",
        "ax.set_ylabel(\"y_i-1\")\n",
        "ax.set_xlabel(\"y_i\")"
      ],
      "execution_count": 0,
      "outputs": [
        {
          "output_type": "execute_result",
          "data": {
            "text/plain": [
              "<matplotlib.text.Text at 0x12fc13518>"
            ]
          },
          "metadata": {
            "tags": []
          },
          "execution_count": 244
        },
        {
          "output_type": "display_data",
          "data": {
            "image/png": "[encoded data removed]",
            "text/plain": [
              "<matplotlib.figure.Figure at 0x12d176978>"
            ]
          },
          "metadata": {
            "tags": []
          }
        }
      ]
    },
    {
      "metadata": {
        "id": "MSVHkhPvR_Ey",
        "colab_type": "text"
      },
      "cell_type": "markdown",
      "source": [
        "## QQ Plot\n",
        "* QQ Plots takes our n ordered data points\n",
        " * sorted from smallest to largest\n",
        "* Asks:\n",
        " * What is the relationship between quantiles from our data and quantiles from a theoretical distribution that we're assuming the sample is drawn from"
      ]
    },
    {
      "metadata": {
        "id": "2CAiWDm4R_FX",
        "colab_type": "code",
        "colab": {},
        "outputId": "3a5ffba9-bf8f-4932-c71e-483be29a7698"
      },
      "cell_type": "code",
      "source": [
        "qntls, xr = stats.probplot(testdata, fit=False)\n",
        "sns.regplot(xr,qntls)"
      ],
      "execution_count": 0,
      "outputs": [
        {
          "output_type": "execute_result",
          "data": {
            "text/plain": [
              "<matplotlib.axes._subplots.AxesSubplot at 0x13032b4e0>"
            ]
          },
          "metadata": {
            "tags": []
          },
          "execution_count": 245
        },
        {
          "output_type": "display_data",
          "data": {
            "image/png": "[encoded data removed]",
            "text/plain": [
              "<matplotlib.figure.Figure at 0x12d8dd080>"
            ]
          },
          "metadata": {
            "tags": []
          }
        }
      ]
    },
    {
      "metadata": {
        "id": "y3rgii2aR_Fa",
        "colab_type": "code",
        "colab": {},
        "collapsed": true
      },
      "cell_type": "code",
      "source": [
        "def random_snorm(n, mean = 0, sd = 1, xi = 1.5):\n",
        "    def random_snorm_aux(n, xi):\n",
        "        weight = xi/(xi + 1/xi)\n",
        "        z = np.random.uniform(-weight,1-weight,n)\n",
        "        xi_ = xi**np.sign(z)\n",
        "        random = -np.absolute(np.random.normal(0,1,n))/xi_ * np.sign(z)\n",
        "        m1 = 2/np.sqrt(2 * np.pi)\n",
        "        mu = m1 * (xi - 1/xi)\n",
        "        sigma = np.sqrt((1 - m1**2) * (xi**2 + 1/xi**2) + 2 * m1**2 - 1)\n",
        "        return (random - mu)/sigma\n",
        "\n",
        "    return random_snorm_aux(n, xi) * sd + mean\n"
      ],
      "execution_count": 0,
      "outputs": []
    },
    {
      "metadata": {
        "id": "cUU_pRi1R_Fc",
        "colab_type": "code",
        "colab": {},
        "outputId": "e0ad66e7-2769-460d-99d4-ba91cd49f35a"
      },
      "cell_type": "code",
      "source": [
        "rightskewed = random_snorm(1000,xi=2)*100\n",
        "sns.distplot(rightskewed,kde=False)"
      ],
      "execution_count": 0,
      "outputs": [
        {
          "output_type": "execute_result",
          "data": {
            "text/plain": [
              "<matplotlib.axes._subplots.AxesSubplot at 0x1302faf60>"
            ]
          },
          "metadata": {
            "tags": []
          },
          "execution_count": 248
        },
        {
          "output_type": "display_data",
          "data": {
            "image/png": "[encoded data removed]",
            "text/plain": [
              "<matplotlib.figure.Figure at 0x12fdec6a0>"
            ]
          },
          "metadata": {
            "tags": []
          }
        }
      ]
    },
    {
      "metadata": {
        "id": "G7lxW9CWR_Fe",
        "colab_type": "code",
        "colab": {},
        "outputId": "4e3ff539-0b96-4cd0-898a-870482bd3cbe"
      },
      "cell_type": "code",
      "source": [
        "qntls, xr = stats.probplot(rightskewed, fit=False)\n",
        "sns.regplot(xr,qntls)"
      ],
      "execution_count": 0,
      "outputs": [
        {
          "output_type": "execute_result",
          "data": {
            "text/plain": [
              "<matplotlib.axes._subplots.AxesSubplot at 0x1306378d0>"
            ]
          },
          "metadata": {
            "tags": []
          },
          "execution_count": 249
        },
        {
          "output_type": "display_data",
          "data": {
            "image/png": "[encoded data removed]",
            "text/plain": [
              "<matplotlib.figure.Figure at 0x1306566d8>"
            ]
          },
          "metadata": {
            "tags": []
          }
        }
      ]
    },
    {
      "metadata": {
        "id": "7Nqj5cI5R_Fk",
        "colab_type": "code",
        "colab": {},
        "outputId": "67c45392-85e5-47a8-b49d-3f535f59c608"
      },
      "cell_type": "code",
      "source": [
        "leftskewed = random_snorm(1000,xi=-2)*100\n",
        "sns.distplot(leftskewed,kde=False)"
      ],
      "execution_count": 0,
      "outputs": [
        {
          "output_type": "execute_result",
          "data": {
            "text/plain": [
              "<matplotlib.axes._subplots.AxesSubplot at 0x13072e860>"
            ]
          },
          "metadata": {
            "tags": []
          },
          "execution_count": 250
        },
        {
          "output_type": "display_data",
          "data": {
            "image/png": "[encoded data removed]",
            "text/plain": [
              "<matplotlib.figure.Figure at 0x1304f4ef0>"
            ]
          },
          "metadata": {
            "tags": []
          }
        }
      ]
    },
    {
      "metadata": {
        "id": "MMAAzN9qR_Fm",
        "colab_type": "code",
        "colab": {},
        "outputId": "ceb25b3f-e980-4cb3-8170-dc4ee3d0ce4f"
      },
      "cell_type": "code",
      "source": [
        "qntls, xr = stats.probplot(leftskewed, fit=False)\n",
        "sns.regplot(xr,qntls)"
      ],
      "execution_count": 0,
      "outputs": [
        {
          "output_type": "execute_result",
          "data": {
            "text/plain": [
              "<matplotlib.axes._subplots.AxesSubplot at 0x1307450b8>"
            ]
          },
          "metadata": {
            "tags": []
          },
          "execution_count": 251
        },
        {
          "output_type": "display_data",
          "data": {
            "image/png": "[encoded data removed]",
            "text/plain": [
              "<matplotlib.figure.Figure at 0x130378a90>"
            ]
          },
          "metadata": {
            "tags": []
          }
        }
      ]
    },
    {
      "metadata": {
        "id": "z4_F9j_XR_Fs",
        "colab_type": "text"
      },
      "cell_type": "markdown",
      "source": [
        "# <font color=\"red\">BEGIN Q5: Are we normal?</font>"
      ]
    },
    {
      "metadata": {
        "id": "AJyHg1MSR_Ft",
        "colab_type": "text"
      },
      "cell_type": "markdown",
      "source": [
        "## Now the serious plots... let's wrap them in a single function that we can call"
      ]
    },
    {
      "metadata": {
        "id": "hIaYq-4dR_Ft",
        "colab_type": "code",
        "colab": {},
        "collapsed": true
      },
      "cell_type": "code",
      "source": [
        "def multiplePlots( series ):\n",
        "    \n",
        "    fig, axs = plt.subplots(2,2)\n",
        "    plt.tight_layout(pad=0.4, w_pad=4, h_pad=1.0)\n",
        "\n",
        "    # Histogram\n",
        "    sns.distplot(series, ax=axs[0,0])\n",
        "    \n",
        "    # Lag plot\n",
        "    lag = series.copy()\n",
        "    lag = np.array(lag[:-1])\n",
        "    current = series[1:]\n",
        "    ax = sns.regplot(current,lag,fit_reg=False, ax=axs[0,1])\n",
        "    ax.set_ylabel(\"y_i-1\")\n",
        "    ax.set_xlabel(\"y_i\")\n",
        "    \n",
        "    # QQ plot\n",
        "    qntls, xr = stats.probplot(series, fit=False)\n",
        "    sns.regplot(xr,qntls, ax=axs[1,0])\n",
        "    \n",
        "    # Run sequence\n",
        "    ax = sns.regplot(np.arange(len(series)),series, ax=axs[1,1])\n",
        "    ax.set_ylabel(\"val\")\n",
        "    ax.set_xlabel(\"i\")\n"
      ],
      "execution_count": 0,
      "outputs": []
    },
    {
      "metadata": {
        "id": "AEdejCLjR_Fu",
        "colab_type": "text"
      },
      "cell_type": "markdown",
      "source": [
        "## Now run this on your \"things\""
      ]
    },
    {
      "metadata": {
        "id": "KFfpiDdZR_Fu",
        "colab_type": "code",
        "colab": {},
        "collapsed": true
      },
      "cell_type": "code",
      "source": [
        "multiplePlots(things)"
      ],
      "execution_count": 0,
      "outputs": []
    },
    {
      "metadata": {
        "id": "jo6bTK7UR_Fv",
        "colab_type": "text"
      },
      "cell_type": "markdown",
      "source": [
        "## <font color=\"red\">Do your data look normally distributed?</font>"
      ]
    },
    {
      "metadata": {
        "id": "CI36UA78R_Fv",
        "colab_type": "text"
      },
      "cell_type": "markdown",
      "source": [
        "<font color=\"red\">INSERT YOUR ANSWER HERE</font>"
      ]
    },
    {
      "metadata": {
        "id": "8EOfPvz0R_Fv",
        "colab_type": "text"
      },
      "cell_type": "markdown",
      "source": [
        "# <font color=\"red\">END Q5</font>"
      ]
    },
    {
      "metadata": {
        "id": "JLYkUGHbR_Fw",
        "colab_type": "text"
      },
      "cell_type": "markdown",
      "source": [
        "# Univariate Data -- Summary\n",
        "* Simple but valuable\n",
        "* We want to know how data is distributed\n",
        "* How does it fit known models/distributions\n",
        "* When does it not?\n",
        " * Visual and analytical tests"
      ]
    },
    {
      "metadata": {
        "id": "kiBE-nmkR_Fw",
        "colab_type": "text"
      },
      "cell_type": "markdown",
      "source": [
        "# <font color=\"red\">BEGIN Q6: Investigating the unknown</font>\n",
        "In this section, we're going to load a dataframe that consists of a bunch of series.  Each of the series is pulled from a different distribution.  We're going to use visual and analytic methods to figure out some things about each of those series."
      ]
    },
    {
      "metadata": {
        "id": "eMJ5ei8CR_Fw",
        "colab_type": "code",
        "colab": {},
        "collapsed": true
      },
      "cell_type": "code",
      "source": [
        "sample = pd.DataFrame.from_csv('sample.csv')"
      ],
      "execution_count": 0,
      "outputs": []
    },
    {
      "metadata": {
        "id": "5tzyD-25R_Fx",
        "colab_type": "code",
        "colab": {},
        "collapsed": true
      },
      "cell_type": "code",
      "source": [
        "sample.describe()"
      ],
      "execution_count": 0,
      "outputs": []
    },
    {
      "metadata": {
        "id": "JoR4JZOOR_Fz",
        "colab_type": "text"
      },
      "cell_type": "markdown",
      "source": [
        "## <font color=\"red\">Q6a. So those are the basic state.  We're missing mode... so calculate it</font>"
      ]
    },
    {
      "metadata": {
        "id": "lh1hspQuR_F0",
        "colab_type": "code",
        "colab": {},
        "collapsed": true
      },
      "cell_type": "code",
      "source": [
        "# insert your code here to generate the modes for each column.  "
      ],
      "execution_count": 0,
      "outputs": []
    },
    {
      "metadata": {
        "id": "JViKXAxUR_F1",
        "colab_type": "text"
      },
      "cell_type": "markdown",
      "source": [
        "## <font color=\"red\">Q6b. Use our multiplePlots to generate some descriptive plots\n"
      ]
    },
    {
      "metadata": {
        "id": "m7ncnRIzR_F2",
        "colab_type": "code",
        "colab": {},
        "collapsed": true
      },
      "cell_type": "code",
      "source": [
        "# insert your code here to iterate through each series in the 'sample' DataFrame and call multiplePlots()"
      ],
      "execution_count": 0,
      "outputs": []
    },
    {
      "metadata": {
        "id": "rUrWIqAGR_F5",
        "colab_type": "text"
      },
      "cell_type": "markdown",
      "source": [
        "## Q6c.  For each column, fill in the following sentences.\n",
        "Based on the 4 plots, column ____________ looks like a (normal, uniform, power, Poisson, skewed, weird) distribution.  The mean is (less than, greater than, about the same as ) the median, and the standard deviation is (less than, greater than, about the same as ) the mean.   The run sequence plot suggests that the values ( do or do not ) change over the sequence of values, and in terms of the lag plot, it looks like there ( is or is not ) a relationship between a value and the previous one.  The QQ plot suggests that the data are ( not skewed, skewed to the left, skewed to the right )."
      ]
    },
    {
      "metadata": {
        "id": "hpVWEYcNR_F5",
        "colab_type": "text"
      },
      "cell_type": "markdown",
      "source": [
        "1. Based on the 4 plots, column v0 looks like a ...\n",
        "1. Based on the 4 plots, column v1 looks like a ...\n",
        "1. Based on the 4 plots, column v2 looks like a ...\n",
        "1. Based on the 4 plots, column v3 looks like a ...\n",
        "1. Based on the 4 plots, column v4 looks like a ...\n",
        "1. Based on the 4 plots, column v5 looks like a ...\n",
        "1. Based on the 4 plots, column v6 looks like a ...\n",
        "1. Based on the 4 plots, column v7 looks like a ...\n",
        "1. Based on the 4 plots, column v8 looks like a ..."
      ]
    },
    {
      "metadata": {
        "id": "4jlyUN9kR_F5",
        "colab_type": "text"
      },
      "cell_type": "markdown",
      "source": [
        "# <font color=\"red\">END Q6</font>\n",
        "\n",
        "# <font color=\"red\">END LAB</font>\n",
        "\n",
        "# Your additional notes go here (or anywhere else)"
      ]
    },
    {
      "metadata": {
        "id": "tCbHt_XoR_F5",
        "colab_type": "text"
      },
      "cell_type": "markdown",
      "source": [
        ""
      ]
    },
    {
      "metadata": {
        "id": "Qvxc_bjiWATm",
        "colab_type": "code",
        "colab": {
          "base_uri": "https://localhost:8080/",
          "height": 297
        },
        "outputId": "703172f0-2f32-4ed4-c745-bb10ae8b40ef"
      },
      "cell_type": "code",
      "source": [
        "import pyspark"
      ],
      "execution_count": 1,
      "outputs": [
        {
          "output_type": "error",
          "ename": "ModuleNotFoundError",
          "evalue": "ignored",
          "traceback": [
            "\u001b[0;31m---------------------------------------------------------------------------\u001b[0m",
            "\u001b[0;31mModuleNotFoundError\u001b[0m                       Traceback (most recent call last)",
            "\u001b[0;32m<ipython-input-1-49d7c4e178f8>\u001b[0m in \u001b[0;36m<module>\u001b[0;34m()\u001b[0m\n\u001b[0;32m----> 1\u001b[0;31m \u001b[0;32mimport\u001b[0m \u001b[0mpyspark\u001b[0m\u001b[0;34m\u001b[0m\u001b[0m\n\u001b[0m",
            "\u001b[0;31mModuleNotFoundError\u001b[0m: No module named 'pyspark'",
            "",
            "\u001b[0;31m---------------------------------------------------------------------------\u001b[0;32m\nNOTE: If your import is failing due to a missing package, you can\nmanually install dependencies using either !pip or !apt.\n\nTo view examples of installing some common dependencies, click the\n\"Open Examples\" button below.\n\u001b[0;31m---------------------------------------------------------------------------\u001b[0m\n"
          ]
        }
      ]
    },
    {
      "metadata": {
        "id": "E3XUv7u2WBYd",
        "colab_type": "code",
        "colab": {
          "base_uri": "https://localhost:8080/",
          "height": 238
        },
        "outputId": "9430c731-c6d7-4247-f24d-8a2c7465de31"
      },
      "cell_type": "code",
      "source": [
        "!pip install pyspark\n"
      ],
      "execution_count": 2,
      "outputs": [
        {
          "output_type": "stream",
          "text": [
            "Collecting pyspark\n",
            "\u001b[?25l  Downloading https://files.pythonhosted.org/packages/58/49/45370cc153a6adcf2c304a3c06e801ed3c9650d0f852e7fde04bd8ffb534/pyspark-2.3.0.tar.gz (211.9MB)\n",
            "\u001b[K    100% |████████████████████████████████| 211.9MB 82kB/s \n",
            "\u001b[?25hCollecting py4j==0.10.6 (from pyspark)\n",
            "\u001b[?25l  Downloading https://files.pythonhosted.org/packages/4a/08/162710786239aa72bd72bb46c64f2b02f54250412ba928cb373b30699139/py4j-0.10.6-py2.py3-none-any.whl (189kB)\n",
            "\u001b[K    100% |████████████████████████████████| 194kB 22.0MB/s \n",
            "\u001b[?25hBuilding wheels for collected packages: pyspark\n",
            "  Running setup.py bdist_wheel for pyspark ... \u001b[?25l-\b \b\\\b \b|\b \b/\b \b-\b \b\\\b \b|\b \b/\b \b-\b \b\\\b \b|\b \b/\b \b-\b \b\\\b \b|\b \b/\b \b-\b \b\\\b \b|\b \b/\b \b-\b \b\\\b \b|\b \b/\b \b-\b \b\\\b \b|\b \b/\b \b-\b \b\\\b \b|\b \b/\b \b-\b \b\\\b \b|\b \b/\b \b-\b \b\\\b \b|\b \b/\b \b-\b \b\\\b \b|\b \b/\b \b-\b \b\\\b \b|\b \b/\b \b-\b \b\\\b \b|\b \b/\b \b-\b \b\\\b \b|\b \b/\b \b-\b \b\\\b \b|\b \b/\b \b-\b \b\\\b \bdone\n",
            "\u001b[?25h  Stored in directory: /content/.cache/pip/wheels/d9/db/ff/e6f3a8a564163ea64bc2072357e77b3404d10f91be48352796\n",
            "Successfully built pyspark\n",
            "Installing collected packages: py4j, pyspark\n",
            "Successfully installed py4j-0.10.6 pyspark-2.3.0\n"
          ],
          "name": "stdout"
        }
      ]
    },
    {
      "metadata": {
        "id": "5-ZCQDe9WE6G",
        "colab_type": "code",
        "colab": {}
      },
      "cell_type": "code",
      "source": [
        "import pyspark"
      ],
      "execution_count": 0,
      "outputs": []
    },
    {
      "metadata": {
        "id": "t2_moqUqWQx2",
        "colab_type": "code",
        "colab": {
          "base_uri": "https://localhost:8080/",
          "height": 297
        },
        "outputId": "3e93734b-b2f4-47ad-8e16-4850383d30e2"
      },
      "cell_type": "code",
      "source": [
        "import gensim"
      ],
      "execution_count": 4,
      "outputs": [
        {
          "output_type": "error",
          "ename": "ModuleNotFoundError",
          "evalue": "ignored",
          "traceback": [
            "\u001b[0;31m---------------------------------------------------------------------------\u001b[0m",
            "\u001b[0;31mModuleNotFoundError\u001b[0m                       Traceback (most recent call last)",
            "\u001b[0;32m<ipython-input-4-e70e92d32c6e>\u001b[0m in \u001b[0;36m<module>\u001b[0;34m()\u001b[0m\n\u001b[0;32m----> 1\u001b[0;31m \u001b[0;32mimport\u001b[0m \u001b[0mgensim\u001b[0m\u001b[0;34m\u001b[0m\u001b[0m\n\u001b[0m",
            "\u001b[0;31mModuleNotFoundError\u001b[0m: No module named 'gensim'",
            "",
            "\u001b[0;31m---------------------------------------------------------------------------\u001b[0;32m\nNOTE: If your import is failing due to a missing package, you can\nmanually install dependencies using either !pip or !apt.\n\nTo view examples of installing some common dependencies, click the\n\"Open Examples\" button below.\n\u001b[0;31m---------------------------------------------------------------------------\u001b[0m\n"
          ]
        }
      ]
    },
    {
      "metadata": {
        "id": "pXggy2L4caWn",
        "colab_type": "code",
        "colab": {
          "base_uri": "https://localhost:8080/",
          "height": 726
        },
        "outputId": "81d3a034-88c7-475d-9521-8f9b07f5e740"
      },
      "cell_type": "code",
      "source": [
        "!pip install gensim"
      ],
      "execution_count": 5,
      "outputs": [
        {
          "output_type": "stream",
          "text": [
            "Collecting gensim\n",
            "\u001b[?25l  Downloading https://files.pythonhosted.org/packages/33/33/df6cb7acdcec5677ed130f4800f67509d24dbec74a03c329fcbf6b0864f0/gensim-3.4.0-cp36-cp36m-manylinux1_x86_64.whl (22.6MB)\n",
            "\u001b[K    100% |████████████████████████████████| 22.6MB 1.2MB/s \n",
            "\u001b[?25hRequirement already satisfied: numpy>=1.11.3 in /usr/local/lib/python3.6/dist-packages (from gensim) (1.14.3)\n",
            "Collecting smart-open>=1.2.1 (from gensim)\n",
            "  Downloading https://files.pythonhosted.org/packages/4b/69/c92661a333f733510628f28b8282698b62cdead37291c8491f3271677c02/smart_open-1.5.7.tar.gz\n",
            "Requirement already satisfied: six>=1.5.0 in /usr/local/lib/python3.6/dist-packages (from gensim) (1.11.0)\n",
            "Requirement already satisfied: scipy>=0.18.1 in /usr/local/lib/python3.6/dist-packages (from gensim) (0.19.1)\n",
            "Collecting boto>=2.32 (from smart-open>=1.2.1->gensim)\n",
            "\u001b[?25l  Downloading https://files.pythonhosted.org/packages/bd/b7/a88a67002b1185ed9a8e8a6ef15266728c2361fcb4f1d02ea331e4c7741d/boto-2.48.0-py2.py3-none-any.whl (1.4MB)\n",
            "\u001b[K    100% |████████████████████████████████| 1.4MB 16.2MB/s \n",
            "\u001b[?25hCollecting bz2file (from smart-open>=1.2.1->gensim)\n",
            "  Downloading https://files.pythonhosted.org/packages/61/39/122222b5e85cd41c391b68a99ee296584b2a2d1d233e7ee32b4532384f2d/bz2file-0.98.tar.gz\n",
            "Requirement already satisfied: requests in /usr/local/lib/python3.6/dist-packages (from smart-open>=1.2.1->gensim) (2.18.4)\n",
            "Collecting boto3 (from smart-open>=1.2.1->gensim)\n",
            "\u001b[?25l  Downloading https://files.pythonhosted.org/packages/ad/0d/14f29bebb6f93362da511dd4299d0dee2fb19d294657ae2c1f4adfb930a6/boto3-1.7.28-py2.py3-none-any.whl (128kB)\n",
            "\u001b[K    100% |████████████████████████████████| 133kB 11.5MB/s \n",
            "\u001b[?25hRequirement already satisfied: idna<2.7,>=2.5 in /usr/local/lib/python3.6/dist-packages (from requests->smart-open>=1.2.1->gensim) (2.6)\n",
            "Requirement already satisfied: chardet<3.1.0,>=3.0.2 in /usr/local/lib/python3.6/dist-packages (from requests->smart-open>=1.2.1->gensim) (3.0.4)\n",
            "Requirement already satisfied: urllib3<1.23,>=1.21.1 in /usr/local/lib/python3.6/dist-packages (from requests->smart-open>=1.2.1->gensim) (1.22)\n",
            "Requirement already satisfied: certifi>=2017.4.17 in /usr/local/lib/python3.6/dist-packages (from requests->smart-open>=1.2.1->gensim) (2018.4.16)\n",
            "Collecting botocore<1.11.0,>=1.10.28 (from boto3->smart-open>=1.2.1->gensim)\n",
            "\u001b[?25l  Downloading https://files.pythonhosted.org/packages/2e/91/f0870d4de8eb78897ce781f3ff22fc492bbb9849b5c91f26db20b125ef36/botocore-1.10.28-py2.py3-none-any.whl (4.2MB)\n",
            "\u001b[K    100% |████████████████████████████████| 4.2MB 8.4MB/s \n",
            "\u001b[?25hCollecting s3transfer<0.2.0,>=0.1.10 (from boto3->smart-open>=1.2.1->gensim)\n",
            "\u001b[?25l  Downloading https://files.pythonhosted.org/packages/d7/14/2a0004d487464d120c9fb85313a75cd3d71a7506955be458eebfe19a6b1d/s3transfer-0.1.13-py2.py3-none-any.whl (59kB)\n",
            "\u001b[K    100% |████████████████████████████████| 61kB 20.5MB/s \n",
            "\u001b[?25hCollecting jmespath<1.0.0,>=0.7.1 (from boto3->smart-open>=1.2.1->gensim)\n",
            "  Downloading https://files.pythonhosted.org/packages/b7/31/05c8d001f7f87f0f07289a5fc0fc3832e9a57f2dbd4d3b0fee70e0d51365/jmespath-0.9.3-py2.py3-none-any.whl\n",
            "Collecting docutils>=0.10 (from botocore<1.11.0,>=1.10.28->boto3->smart-open>=1.2.1->gensim)\n",
            "\u001b[?25l  Downloading https://files.pythonhosted.org/packages/36/fa/08e9e6e0e3cbd1d362c3bbee8d01d0aedb2155c4ac112b19ef3cae8eed8d/docutils-0.14-py3-none-any.whl (543kB)\n",
            "\u001b[K    100% |████████████████████████████████| 552kB 18.9MB/s \n",
            "\u001b[?25hRequirement already satisfied: python-dateutil<3.0.0,>=2.1; python_version >= \"2.7\" in /usr/local/lib/python3.6/dist-packages (from botocore<1.11.0,>=1.10.28->boto3->smart-open>=1.2.1->gensim) (2.5.3)\n",
            "Building wheels for collected packages: smart-open, bz2file\n",
            "  Running setup.py bdist_wheel for smart-open ... \u001b[?25l-\b \bdone\n",
            "\u001b[?25h  Stored in directory: /content/.cache/pip/wheels/b1/9e/7d/bb3d3b55c597e72617140a0638c06382a5f17283881eae163e\n",
            "  Running setup.py bdist_wheel for bz2file ... \u001b[?25l-\b \bdone\n",
            "\u001b[?25h  Stored in directory: /content/.cache/pip/wheels/81/75/d6/e1317bf09bf1af5a30befc2a007869fa6e1f516b8f7c591cb9\n",
            "Successfully built smart-open bz2file\n",
            "Installing collected packages: boto, bz2file, jmespath, docutils, botocore, s3transfer, boto3, smart-open, gensim\n",
            "Successfully installed boto-2.48.0 boto3-1.7.28 botocore-1.10.28 bz2file-0.98 docutils-0.14 gensim-3.4.0 jmespath-0.9.3 s3transfer-0.1.13 smart-open-1.5.7\n"
          ],
          "name": "stdout"
        }
      ]
    },
    {
      "metadata": {
        "id": "4PCkIR1ncdFb",
        "colab_type": "code",
        "colab": {}
      },
      "cell_type": "code",
      "source": [
        "import gensim"
      ],
      "execution_count": 0,
      "outputs": []
    },
    {
      "metadata": {
        "id": "oV1WPIvochuR",
        "colab_type": "code",
        "colab": {
          "base_uri": "https://localhost:8080/",
          "height": 129
        },
        "outputId": "6b89b756-3a4e-4f8a-e100-5a6b88381a19"
      },
      "cell_type": "code",
      "source": [
        "import nltk\n",
        "\n",
        "####\n",
        "# text to work with\n",
        "bltext = \"\"\"It was a dark and stormy night; the rain fell in torrents, except at\n",
        "occasional intervals, when it was checked by a violent gust of wind\n",
        "which swept up the streets (for it is in London that our scene lies),\n",
        "rattling along the house-tops, and fiercely agitating the scanty flame\n",
        "of the lamps that struggled against the darkness. Through one of the\n",
        "obscurest quarters of London, and among haunts little loved by the\n",
        "gentlemen of the police, a man, evidently of the lowest orders, was\n",
        "wending his solitary way. He stopped twice or thrice at different shops\n",
        "and houses of a description correspondent with the appearance of the\n",
        "quartier in which they were situated, and tended inquiry for some\n",
        "article or another which did not seem easily to be met with. All the\n",
        "answers he received were couched in the negative; and as he turned from\n",
        "each door he muttered to himself, in no very elegant phraseology, his\n",
        "disappointment and discontent. At length, at one house, the landlord, a\n",
        "sturdy butcher, after rendering the same reply the inquirer had hitherto\n",
        "received, added, \"But if this vill do as vell, Dummie, it is quite at\n",
        "your sarvice!\" Pausing reflectively for a moment, Dummie responded that\n",
        "he thought the thing proffered might do as well; and thrusting it into\n",
        "his ample pocket, he strode away with as rapid a motion as the wind and\n",
        "the rain would allow. He soon came to a nest of low and dingy buildings,\n",
        "at the entrance to which, in half-effaced characters, was written\n",
        "\"Thames Court.\" Halting at the most conspicuous of these buildings, an\n",
        "inn or alehouse, through the half-closed windows of which blazed out in\n",
        "ruddy comfort the beams of the hospitable hearth, he knocked hastily at\n",
        "the door. He was admitted by a lady of a certain age, and endowed with a\n",
        "comely rotundity of face and person.\"\"\"\n",
        "\n",
        "# split up into sentences\n",
        "sent_detector = nltk.data.load('tokenizers/punkt/english.pickle')\n",
        "blsentences = sent_detector.tokenize(bltext.strip())\n",
        "\n",
        "print(\"Split into sentences.\")\n",
        "print(blsentences[0])\n",
        "raw_input()\n",
        "\n",
        "###\n",
        "# split up each sentence into words, taking punctuation into account\n",
        "blsent_words = [nltk.word_tokenize(sent) for sent in blsentences]\n",
        "\n",
        "print \"Split into words.\"\n",
        "print blsent_words[0]\n",
        "raw_input()\n",
        "\n",
        "###\n",
        "# add part-of-speech tags: a list of sentences, each of which is a list of word/tag pairs\n",
        "blsent_tagged = [nltk.pos_tag(sent) for sent in blsent_words]\n",
        "\n",
        "print \"Added part-of-speech tags.\"\n",
        "print blsent_tagged[0]\n",
        "raw_input()\n",
        "\n",
        "###\n",
        "# add named-entity tags\n",
        "# blsent_ne: list of sentences, each of which is a list of word/tag/NEtag triples\n",
        "# (we do not go on using these below)\n",
        "blsent_ne = [nltk.chunk.tree2conlltags(nltk.ne_chunk(s)) for s in blsent_tagged]\n",
        "\n",
        "print (\"Added named-entity tags.\")\n",
        "print (blsent_ne[0])\n",
        "raw_input()\n",
        "\n",
        "###\n",
        "# chunking\n",
        "# IOB format\n",
        "# code from the NLTK book\n",
        "class UnigramChunker(nltk.ChunkParserI):\n",
        "    def __init__(self, train_sents): \n",
        "        train_data = [[(t,c) for w,t,c in nltk.chunk.tree2conlltags(sent)]\n",
        "                      for sent in train_sents]\n",
        "        self.tagger = nltk.UnigramTagger(train_data)\n",
        "             \n",
        "    def parse(self, sentence): \n",
        "        return nltk.chunk.conlltags2tree(self.parse_iob(sentence))\n",
        "    \n",
        "    def parse_iob(self, sentence):\n",
        "        pos_tags = [pos for (word,pos) in sentence]\n",
        "        tagged_pos_tags = self.tagger.tag(pos_tags)\n",
        "        chunktags = [chunktag for (pos, chunktag) in tagged_pos_tags]\n",
        "        conlltags = [(word, pos, chunktag) for ((word,pos),chunktag)\n",
        "                     in zip(sentence, chunktags)]\n",
        "        return conlltags\n",
        "\n",
        "from nltk.corpus import conll2000\n",
        "train_sents = conll2000.chunked_sents('train.txt', chunk_types=['NP'])\n",
        "chunker = UnigramChunker(train_sents)\n",
        "\n",
        "# blsent_chunked: triples (word, postag, chunktag)\n",
        "print \"Added chunk tags to word/tag pairs (version 1)\"\n",
        "blsent_chunked = [ chunker.parse_iob(s) for s in blsent_tagged ]\n",
        "print blsent_chunked[0]\n",
        "raw_input()\n",
        "\n",
        "# or, second option for chunking: via regular expressions\n",
        "grammar = r\"\"\"\n",
        "  NP: {<DT|PP\\$>?<JJ.*>*<NN.*>+}   # chunk determiner/possessive, adjectives and noun sequences\n",
        "\"\"\"\n",
        "chunker2 = nltk.RegexpParser(grammar)\n",
        "\n",
        "# blsent_chunked2: triples (word, postag, chunktag)\n",
        "blsent_chunked2= [nltk.chunk.tree2conlltags(chunker2.parse(s)) for s in blsent_tagged ]\n",
        "\n",
        "print \"Added chunk tags to word/tag pairs (version 2)\"\n",
        "print blsent_chunked2[0]\n",
        "raw_input()\n",
        "\n",
        "###\n",
        "#lemmatization\n",
        "lobj = nltk.stem.wordnet.WordNetLemmatizer()\n",
        "\n",
        "# a list of sentences, each of which is a list of  word/tag/chunktag/lemma tuples\n",
        "blsent_lemmatized = [ ]\n",
        "\n",
        "for sent in blsent_chunked:\n",
        "    onesentence = [ ]\n",
        "    \n",
        "    for word, postag, chunktag in sent:\n",
        "        if postag.startswith(\"V\"): shorttag = \"v\"\n",
        "        elif postag.startswith(\"N\"): shorttag = \"n\"\n",
        "        elif postag.startswith(\"J\"): shorttag = \"a\"\n",
        "        else: shorttag = \"n\"\n",
        "        onesentence.append( (word, postag, chunktag, lobj.lemmatize(word.lower(), shorttag)))\n",
        "        \n",
        "    blsent_lemmatized.append(onesentence)\n",
        "\n",
        "print \"Added lemmas.\"\n",
        "print blsent_lemmatized[0]\n",
        "raw_input()\n",
        "    \n",
        "###\n",
        "# positive and negative sentiment tags\n",
        "def read_sentiment_lexicon(filename):\n",
        "    f = open(filename)\n",
        "    words = [ ]\n",
        "    for line in f:\n",
        "        if not(line.startswith(\";\")) and not(line.strip() == \"\"):\n",
        "            words.append(line.strip())\n",
        "    f.close()\n",
        "    return set(words)\n",
        "\n",
        "poswords = read_sentiment_lexicon(\"/Users/katrinerk/Data/sentiment/Bing_Liu_opinion-lexicon-English/positive-words.txt\")\n",
        "negwords = read_sentiment_lexicon(\"/Users/katrinerk/Data/sentiment/Bing_Liu_opinion-lexicon-English/negative-words.txt\")\n",
        "\n",
        "blsent_sentiment = [ ]\n",
        "for sent in blsent_lemmatized:\n",
        "    onesentence = [ ]\n",
        "    \n",
        "    for word, postag, chunktag, lemma in sent:\n",
        "        if lemma in poswords:\n",
        "            onesentence.append( (word, postag, chunktag, lemma, \"POS\"))\n",
        "        elif lemma in negwords:\n",
        "            onesentence.append( (word, postag, chunktag, lemma, \"NEG\"))\n",
        "        else:\n",
        "            onesentence.append( (word, postag, chunktag, lemma, \"O\"))\n",
        "\n",
        "    blsent_sentiment.append(onesentence)\n",
        "\n",
        "print \"Added pos/neg sentiment tags\"\n",
        "print blsent_sentiment[0]\n",
        "raw_input()\n",
        "\n",
        "#how many positive and negative sentiment words in the text?\n",
        "num_pos = len([wtuple for sent in blsent_sentiment for wtuple in sent if wtuple[-1] == \"POS\"])\n",
        "num_neg = len([wtuple for sent in blsent_sentiment for wtuple in sent if wtuple[-1] == \"NEG\"])\n",
        "print \"Count of positive sentiment words:\", num_pos\n",
        "print \"Count of negative sentiment words:\", num_neg\n"
      ],
      "execution_count": 8,
      "outputs": [
        {
          "output_type": "error",
          "ename": "SyntaxError",
          "evalue": "ignored",
          "traceback": [
            "\u001b[0;36m  File \u001b[0;32m\"<ipython-input-8-f995aa7104b2>\"\u001b[0;36m, line \u001b[0;32m44\u001b[0m\n\u001b[0;31m    print \"Split into words.\"\u001b[0m\n\u001b[0m                            ^\u001b[0m\n\u001b[0;31mSyntaxError\u001b[0m\u001b[0;31m:\u001b[0m Missing parentheses in call to 'print'. Did you mean print(\"Split into words.\")?\n"
          ]
        }
      ]
    },
    {
      "metadata": {
        "id": "UhJFihspc0ek",
        "colab_type": "code",
        "colab": {}
      },
      "cell_type": "code",
      "source": [
        " "
      ],
      "execution_count": 0,
      "outputs": []
    }
  ]
}