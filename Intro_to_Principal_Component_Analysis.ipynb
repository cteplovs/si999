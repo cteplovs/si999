{
  "nbformat": 4,
  "nbformat_minor": 0,
  "metadata": {
    "colab": {
      "name": "Intro to Principal Component Analysis.ipynb",
      "provenance": [],
      "include_colab_link": true
    },
    "language_info": {
      "codemirror_mode": {
        "name": "ipython",
        "version": 3
      },
      "file_extension": ".py",
      "mimetype": "text/x-python",
      "name": "python",
      "nbconvert_exporter": "python",
      "pygments_lexer": "ipython3",
      "version": "3.6.2"
    },
    "kernelspec": {
      "display_name": "Python 3",
      "language": "python",
      "name": "python3"
    }
  },
  "cells": [
    {
      "cell_type": "markdown",
      "metadata": {
        "id": "view-in-github",
        "colab_type": "text"
      },
      "source": [
        "<a href=\"https://colab.research.google.com/github/cteplovs/si999/blob/master/Intro_to_Principal_Component_Analysis.ipynb\" target=\"_parent\"><img src=\"https://colab.research.google.com/assets/colab-badge.svg\" alt=\"Open In Colab\"/></a>"
      ]
    },
    {
      "cell_type": "markdown",
      "metadata": {
        "id": "rC9SVUoK004q",
        "colab_type": "text"
      },
      "source": [
        "# Introduction to Principal Component Analysis\n",
        "The goal of principal component analysis (PCA) is to reduce a set of data with multiple variables down to a smaller number of variables. In the videos, we showed you how to do PCA using scikit-learn. This exercise will walk you through the process of doing PCA yourself. Please make sure all your code comes directly after the step that asks for it. (I.e. Import the data right after Step 1, etc.)\n"
      ]
    },
    {
      "cell_type": "markdown",
      "metadata": {
        "id": "tO53jxN_004r",
        "colab_type": "text"
      },
      "source": [
        "_**Step 1:** Import the Boston dataset by running sklearn.datasets.load_\\__boston(). This is a dataset of home features and prices in census tracts around Boston from the 1970 census._"
      ]
    },
    {
      "cell_type": "code",
      "metadata": {
        "id": "2CyPK6oi004s",
        "colab_type": "code",
        "colab": {}
      },
      "source": [
        "import numpy as np\n",
        "from sklearn import datasets\n",
        "boston_obj = datasets.load_boston()"
      ],
      "execution_count": 0,
      "outputs": []
    },
    {
      "cell_type": "markdown",
      "metadata": {
        "id": "nuoxoL_N004v",
        "colab_type": "text"
      },
      "source": [
        "_**Step 2:** Examine the data to find the names of the 13 features and the number of data points. Do not include the actual median home prices, which is \"target\"._"
      ]
    },
    {
      "cell_type": "code",
      "metadata": {
        "id": "SvbfgcJRpDwL",
        "colab_type": "code",
        "outputId": "279a2e6b-a4bc-4cf4-b202-c4ca6772b4ce",
        "colab": {
          "base_uri": "https://localhost:8080/",
          "height": 255
        }
      },
      "source": [
        "!pip install pyspark"
      ],
      "execution_count": 0,
      "outputs": [
        {
          "output_type": "stream",
          "text": [
            "Collecting pyspark\n",
            "\u001b[?25l  Downloading https://files.pythonhosted.org/packages/87/21/f05c186f4ddb01d15d0ddc36ef4b7e3cedbeb6412274a41f26b55a650ee5/pyspark-2.4.4.tar.gz (215.7MB)\n",
            "\u001b[K     |████████████████████████████████| 215.7MB 62kB/s \n",
            "\u001b[?25hCollecting py4j==0.10.7\n",
            "\u001b[?25l  Downloading https://files.pythonhosted.org/packages/e3/53/c737818eb9a7dc32a7cd4f1396e787bd94200c3997c72c1dbe028587bd76/py4j-0.10.7-py2.py3-none-any.whl (197kB)\n",
            "\u001b[K     |████████████████████████████████| 204kB 53.5MB/s \n",
            "\u001b[?25hBuilding wheels for collected packages: pyspark\n",
            "  Building wheel for pyspark (setup.py) ... \u001b[?25l\u001b[?25hdone\n",
            "  Created wheel for pyspark: filename=pyspark-2.4.4-py2.py3-none-any.whl size=216130387 sha256=39173241587fe05688fb299774ca3921f72f5db5d9dcdb09b26f3efd0ccf21c4\n",
            "  Stored in directory: /root/.cache/pip/wheels/ab/09/4d/0d184230058e654eb1b04467dbc1292f00eaa186544604b471\n",
            "Successfully built pyspark\n",
            "Installing collected packages: py4j, pyspark\n",
            "Successfully installed py4j-0.10.7 pyspark-2.4.4\n"
          ],
          "name": "stdout"
        }
      ]
    },
    {
      "cell_type": "code",
      "metadata": {
        "id": "dpbnSbKNo_p_",
        "colab_type": "code",
        "colab": {}
      },
      "source": [
        "import pyspark"
      ],
      "execution_count": 0,
      "outputs": []
    },
    {
      "cell_type": "code",
      "metadata": {
        "id": "SpaitNG6004v",
        "colab_type": "code",
        "outputId": "0e0eaa6e-80ee-4935-ad1d-0cb294e2b1e1",
        "colab": {
          "base_uri": "https://localhost:8080/",
          "height": 50
        }
      },
      "source": [
        "boston_obj.feature_names"
      ],
      "execution_count": 2,
      "outputs": [
        {
          "output_type": "execute_result",
          "data": {
            "text/plain": [
              "array(['CRIM', 'ZN', 'INDUS', 'CHAS', 'NOX', 'RM', 'AGE', 'DIS', 'RAD',\n",
              "       'TAX', 'PTRATIO', 'B', 'LSTAT'], dtype='<U7')"
            ]
          },
          "metadata": {
            "tags": []
          },
          "execution_count": 2
        }
      ]
    },
    {
      "cell_type": "code",
      "metadata": {
        "scrolled": true,
        "id": "rEKEOh9r0040",
        "colab_type": "code",
        "outputId": "0a151eb4-a15f-448e-b4c1-96ad6c432027",
        "colab": {
          "base_uri": "https://localhost:8080/",
          "height": 34
        }
      },
      "source": [
        "boston = boston_obj.data\n",
        "boston.shape"
      ],
      "execution_count": 3,
      "outputs": [
        {
          "output_type": "execute_result",
          "data": {
            "text/plain": [
              "(506, 13)"
            ]
          },
          "metadata": {
            "tags": []
          },
          "execution_count": 3
        }
      ]
    },
    {
      "cell_type": "code",
      "metadata": {
        "id": "DK2vFG0F0042",
        "colab_type": "code",
        "outputId": "10e15913-8a4f-48de-fdd7-a9b24c8c6cc1",
        "colab": {
          "base_uri": "https://localhost:8080/",
          "height": 235
        }
      },
      "source": [
        "boston"
      ],
      "execution_count": 4,
      "outputs": [
        {
          "output_type": "execute_result",
          "data": {
            "text/plain": [
              "array([[6.3200e-03, 1.8000e+01, 2.3100e+00, ..., 1.5300e+01, 3.9690e+02,\n",
              "        4.9800e+00],\n",
              "       [2.7310e-02, 0.0000e+00, 7.0700e+00, ..., 1.7800e+01, 3.9690e+02,\n",
              "        9.1400e+00],\n",
              "       [2.7290e-02, 0.0000e+00, 7.0700e+00, ..., 1.7800e+01, 3.9283e+02,\n",
              "        4.0300e+00],\n",
              "       ...,\n",
              "       [6.0760e-02, 0.0000e+00, 1.1930e+01, ..., 2.1000e+01, 3.9690e+02,\n",
              "        5.6400e+00],\n",
              "       [1.0959e-01, 0.0000e+00, 1.1930e+01, ..., 2.1000e+01, 3.9345e+02,\n",
              "        6.4800e+00],\n",
              "       [4.7410e-02, 0.0000e+00, 1.1930e+01, ..., 2.1000e+01, 3.9690e+02,\n",
              "        7.8800e+00]])"
            ]
          },
          "metadata": {
            "tags": []
          },
          "execution_count": 4
        }
      ]
    },
    {
      "cell_type": "markdown",
      "metadata": {
        "id": "_b1tIKKk0045",
        "colab_type": "text"
      },
      "source": [
        "_**Step 3:** Standardize your data using sklearn.preprocessing.StandardScaler()._\n"
      ]
    },
    {
      "cell_type": "code",
      "metadata": {
        "id": "QaUi0O2I0045",
        "colab_type": "code",
        "colab": {}
      },
      "source": [
        "from sklearn import preprocessing\n",
        "scaler = preprocessing.StandardScaler()\n",
        "boston = scaler.fit_transform(boston)"
      ],
      "execution_count": 0,
      "outputs": []
    },
    {
      "cell_type": "markdown",
      "metadata": {
        "id": "9sOG9O0N0048",
        "colab_type": "text"
      },
      "source": [
        "_**Step 4:** Perform PCA on the feature set by using sklearn.decomposition.PCA_\n"
      ]
    },
    {
      "cell_type": "code",
      "metadata": {
        "id": "0sgVFasp0048",
        "colab_type": "code",
        "outputId": "2268b9e2-0b89-4cae-ae98-6b9e862d3e0c",
        "colab": {
          "base_uri": "https://localhost:8080/",
          "height": 50
        }
      },
      "source": [
        "from sklearn import decomposition\n",
        "mypca = decomposition.PCA(tol=.000001, iterated_power=40, random_state=1)\n",
        "mypca.fit(boston)"
      ],
      "execution_count": 17,
      "outputs": [
        {
          "output_type": "execute_result",
          "data": {
            "text/plain": [
              "PCA(copy=True, iterated_power=40, n_components=None, random_state=1,\n",
              "    svd_solver='auto', tol=1e-06, whiten=False)"
            ]
          },
          "metadata": {
            "tags": []
          },
          "execution_count": 17
        }
      ]
    },
    {
      "cell_type": "markdown",
      "metadata": {
        "id": "YSsSWURt004_",
        "colab_type": "text"
      },
      "source": [
        "_**Step 5:** Calculate the amount of variance explained by each component. How many principal components would you keep?_"
      ]
    },
    {
      "cell_type": "code",
      "metadata": {
        "id": "uy58_mwb004_",
        "colab_type": "code",
        "outputId": "23d43e42-589d-418e-ce48-d489efafd519",
        "colab": {
          "base_uri": "https://localhost:8080/",
          "height": 67
        }
      },
      "source": [
        "print(mypca.explained_variance_ratio_)"
      ],
      "execution_count": 18,
      "outputs": [
        {
          "output_type": "stream",
          "text": [
            "[0.47129606 0.11025193 0.0955859  0.06596732 0.06421661 0.05056978\n",
            " 0.04118124 0.03046902 0.02130333 0.01694137 0.0143088  0.01302331\n",
            " 0.00488533]\n"
          ],
          "name": "stdout"
        }
      ]
    },
    {
      "cell_type": "code",
      "metadata": {
        "id": "7DPx2qJu005D",
        "colab_type": "code",
        "outputId": "e5e66488-e013-4fb2-f6e8-dc72e616066b",
        "colab": {
          "base_uri": "https://localhost:8080/",
          "height": 50
        }
      },
      "source": [
        "print(mypca.explained_variance_ratio_.round(3))"
      ],
      "execution_count": 19,
      "outputs": [
        {
          "output_type": "stream",
          "text": [
            "[0.471 0.11  0.096 0.066 0.064 0.051 0.041 0.03  0.021 0.017 0.014 0.013\n",
            " 0.005]\n"
          ],
          "name": "stdout"
        }
      ]
    },
    {
      "cell_type": "markdown",
      "metadata": {
        "id": "u9KiSI7P005F",
        "colab_type": "text"
      },
      "source": [
        "<span style=\"color:blue\">I would keep the first two components, because together they explain 97% of the variance.</span>"
      ]
    },
    {
      "cell_type": "markdown",
      "metadata": {
        "id": "Z6JFf7D6005F",
        "colab_type": "text"
      },
      "source": [
        "_**Step 6:** Plot the data with the first principal component on the x-axis and the second principal component on the y-axis. As a check on your work, your plot should look like this:_\n",
        "![pca_plot.png](attachment:pca_plot.png \"PC1 versus PC2 boston\")"
      ]
    },
    {
      "cell_type": "code",
      "metadata": {
        "id": "0jPk-r4y005G",
        "colab_type": "code",
        "colab": {}
      },
      "source": [
        "import matplotlib.pyplot as plt\n",
        "new_coords = mypca.transform(boston)"
      ],
      "execution_count": 0,
      "outputs": []
    },
    {
      "cell_type": "code",
      "metadata": {
        "id": "pTtsM6JL005I",
        "colab_type": "code",
        "outputId": "6aebae61-a751-48fb-e6f6-9e80a0e231e3",
        "colab": {
          "base_uri": "https://localhost:8080/",
          "height": 282
        }
      },
      "source": [
        "plt.scatter(new_coords[:,0], new_coords[:,1])"
      ],
      "execution_count": 21,
      "outputs": [
        {
          "output_type": "execute_result",
          "data": {
            "text/plain": [
              "<matplotlib.collections.PathCollection at 0x7f53d46c0898>"
            ]
          },
          "metadata": {
            "tags": []
          },
          "execution_count": 21
        },
        {
          "output_type": "display_data",
          "data": {
            "image/png": "[encoded data removed]",
            "text/plain": [
              "<Figure size 432x288 with 1 Axes>"
            ]
          },
          "metadata": {
            "tags": []
          }
        }
      ]
    },
    {
      "cell_type": "code",
      "metadata": {
        "id": "lPSCKAGg1Jlt",
        "colab_type": "code",
        "colab": {}
      },
      "source": [
        ""
      ],
      "execution_count": 0,
      "outputs": []
    }
  ]
}